{
  "nbformat": 4,
  "nbformat_minor": 0,
  "metadata": {
    "colab": {
      "name": "torch_RNN_with_MNIST.ipynb",
      "provenance": [],
      "collapsed_sections": [],
      "authorship_tag": "ABX9TyP/feWaTD3vyTyAeAuHpqtq",
      "include_colab_link": true
    },
    "kernelspec": {
      "name": "python3",
      "display_name": "Python 3"
    },
    "language_info": {
      "name": "python"
    },
    "accelerator": "GPU",
    "widgets": {
      "application/vnd.jupyter.widget-state+json": {
        "1c93f77aeaca409c91690a7e7af8d712": {
          "model_module": "@jupyter-widgets/controls",
          "model_name": "HBoxModel",
          "model_module_version": "1.5.0",
          "state": {
            "_view_name": "HBoxView",
            "_dom_classes": [],
            "_model_name": "HBoxModel",
            "_view_module": "@jupyter-widgets/controls",
            "_model_module_version": "1.5.0",
            "_view_count": null,
            "_view_module_version": "1.5.0",
            "box_style": "",
            "layout": "IPY_MODEL_cb0dfa13695f4bde8d3a51b5c2b1b961",
            "_model_module": "@jupyter-widgets/controls",
            "children": [
              "IPY_MODEL_66c5eba4d41e4d27af114b1ce7ed90e6",
              "IPY_MODEL_e31de8aea3de47569051c57d71873f30",
              "IPY_MODEL_33c054c7bc42460db010e08b1ddc47ba"
            ]
          }
        },
        "cb0dfa13695f4bde8d3a51b5c2b1b961": {
          "model_module": "@jupyter-widgets/base",
          "model_name": "LayoutModel",
          "model_module_version": "1.2.0",
          "state": {
            "_view_name": "LayoutView",
            "grid_template_rows": null,
            "right": null,
            "justify_content": null,
            "_view_module": "@jupyter-widgets/base",
            "overflow": null,
            "_model_module_version": "1.2.0",
            "_view_count": null,
            "flex_flow": null,
            "width": null,
            "min_width": null,
            "border": null,
            "align_items": null,
            "bottom": null,
            "_model_module": "@jupyter-widgets/base",
            "top": null,
            "grid_column": null,
            "overflow_y": null,
            "overflow_x": null,
            "grid_auto_flow": null,
            "grid_area": null,
            "grid_template_columns": null,
            "flex": null,
            "_model_name": "LayoutModel",
            "justify_items": null,
            "grid_row": null,
            "max_height": null,
            "align_content": null,
            "visibility": null,
            "align_self": null,
            "height": null,
            "min_height": null,
            "padding": null,
            "grid_auto_rows": null,
            "grid_gap": null,
            "max_width": null,
            "order": null,
            "_view_module_version": "1.2.0",
            "grid_template_areas": null,
            "object_position": null,
            "object_fit": null,
            "grid_auto_columns": null,
            "margin": null,
            "display": null,
            "left": null
          }
        },
        "66c5eba4d41e4d27af114b1ce7ed90e6": {
          "model_module": "@jupyter-widgets/controls",
          "model_name": "HTMLModel",
          "model_module_version": "1.5.0",
          "state": {
            "_view_name": "HTMLView",
            "style": "IPY_MODEL_62787312e3a749f08662e6eea6dcc2ee",
            "_dom_classes": [],
            "description": "",
            "_model_name": "HTMLModel",
            "placeholder": "​",
            "_view_module": "@jupyter-widgets/controls",
            "_model_module_version": "1.5.0",
            "value": "",
            "_view_count": null,
            "_view_module_version": "1.5.0",
            "description_tooltip": null,
            "_model_module": "@jupyter-widgets/controls",
            "layout": "IPY_MODEL_6eb2584e10904606b35577104c44104c"
          }
        },
        "e31de8aea3de47569051c57d71873f30": {
          "model_module": "@jupyter-widgets/controls",
          "model_name": "FloatProgressModel",
          "model_module_version": "1.5.0",
          "state": {
            "_view_name": "ProgressView",
            "style": "IPY_MODEL_8786ae629f6c4791a2a9aae91d10bec2",
            "_dom_classes": [],
            "description": "",
            "_model_name": "FloatProgressModel",
            "bar_style": "success",
            "max": 9912422,
            "_view_module": "@jupyter-widgets/controls",
            "_model_module_version": "1.5.0",
            "value": 9912422,
            "_view_count": null,
            "_view_module_version": "1.5.0",
            "orientation": "horizontal",
            "min": 0,
            "description_tooltip": null,
            "_model_module": "@jupyter-widgets/controls",
            "layout": "IPY_MODEL_398e80414d4a4595aaffb61a78f90169"
          }
        },
        "33c054c7bc42460db010e08b1ddc47ba": {
          "model_module": "@jupyter-widgets/controls",
          "model_name": "HTMLModel",
          "model_module_version": "1.5.0",
          "state": {
            "_view_name": "HTMLView",
            "style": "IPY_MODEL_7f47b5a5a01747a5a4af2e0a9199aeac",
            "_dom_classes": [],
            "description": "",
            "_model_name": "HTMLModel",
            "placeholder": "​",
            "_view_module": "@jupyter-widgets/controls",
            "_model_module_version": "1.5.0",
            "value": " 9913344/? [00:00&lt;00:00, 17884218.65it/s]",
            "_view_count": null,
            "_view_module_version": "1.5.0",
            "description_tooltip": null,
            "_model_module": "@jupyter-widgets/controls",
            "layout": "IPY_MODEL_0932722f14d643d9ba9415996ab3024a"
          }
        },
        "62787312e3a749f08662e6eea6dcc2ee": {
          "model_module": "@jupyter-widgets/controls",
          "model_name": "DescriptionStyleModel",
          "model_module_version": "1.5.0",
          "state": {
            "_view_name": "StyleView",
            "_model_name": "DescriptionStyleModel",
            "description_width": "",
            "_view_module": "@jupyter-widgets/base",
            "_model_module_version": "1.5.0",
            "_view_count": null,
            "_view_module_version": "1.2.0",
            "_model_module": "@jupyter-widgets/controls"
          }
        },
        "6eb2584e10904606b35577104c44104c": {
          "model_module": "@jupyter-widgets/base",
          "model_name": "LayoutModel",
          "model_module_version": "1.2.0",
          "state": {
            "_view_name": "LayoutView",
            "grid_template_rows": null,
            "right": null,
            "justify_content": null,
            "_view_module": "@jupyter-widgets/base",
            "overflow": null,
            "_model_module_version": "1.2.0",
            "_view_count": null,
            "flex_flow": null,
            "width": null,
            "min_width": null,
            "border": null,
            "align_items": null,
            "bottom": null,
            "_model_module": "@jupyter-widgets/base",
            "top": null,
            "grid_column": null,
            "overflow_y": null,
            "overflow_x": null,
            "grid_auto_flow": null,
            "grid_area": null,
            "grid_template_columns": null,
            "flex": null,
            "_model_name": "LayoutModel",
            "justify_items": null,
            "grid_row": null,
            "max_height": null,
            "align_content": null,
            "visibility": null,
            "align_self": null,
            "height": null,
            "min_height": null,
            "padding": null,
            "grid_auto_rows": null,
            "grid_gap": null,
            "max_width": null,
            "order": null,
            "_view_module_version": "1.2.0",
            "grid_template_areas": null,
            "object_position": null,
            "object_fit": null,
            "grid_auto_columns": null,
            "margin": null,
            "display": null,
            "left": null
          }
        },
        "8786ae629f6c4791a2a9aae91d10bec2": {
          "model_module": "@jupyter-widgets/controls",
          "model_name": "ProgressStyleModel",
          "model_module_version": "1.5.0",
          "state": {
            "_view_name": "StyleView",
            "_model_name": "ProgressStyleModel",
            "description_width": "",
            "_view_module": "@jupyter-widgets/base",
            "_model_module_version": "1.5.0",
            "_view_count": null,
            "_view_module_version": "1.2.0",
            "bar_color": null,
            "_model_module": "@jupyter-widgets/controls"
          }
        },
        "398e80414d4a4595aaffb61a78f90169": {
          "model_module": "@jupyter-widgets/base",
          "model_name": "LayoutModel",
          "model_module_version": "1.2.0",
          "state": {
            "_view_name": "LayoutView",
            "grid_template_rows": null,
            "right": null,
            "justify_content": null,
            "_view_module": "@jupyter-widgets/base",
            "overflow": null,
            "_model_module_version": "1.2.0",
            "_view_count": null,
            "flex_flow": null,
            "width": null,
            "min_width": null,
            "border": null,
            "align_items": null,
            "bottom": null,
            "_model_module": "@jupyter-widgets/base",
            "top": null,
            "grid_column": null,
            "overflow_y": null,
            "overflow_x": null,
            "grid_auto_flow": null,
            "grid_area": null,
            "grid_template_columns": null,
            "flex": null,
            "_model_name": "LayoutModel",
            "justify_items": null,
            "grid_row": null,
            "max_height": null,
            "align_content": null,
            "visibility": null,
            "align_self": null,
            "height": null,
            "min_height": null,
            "padding": null,
            "grid_auto_rows": null,
            "grid_gap": null,
            "max_width": null,
            "order": null,
            "_view_module_version": "1.2.0",
            "grid_template_areas": null,
            "object_position": null,
            "object_fit": null,
            "grid_auto_columns": null,
            "margin": null,
            "display": null,
            "left": null
          }
        },
        "7f47b5a5a01747a5a4af2e0a9199aeac": {
          "model_module": "@jupyter-widgets/controls",
          "model_name": "DescriptionStyleModel",
          "model_module_version": "1.5.0",
          "state": {
            "_view_name": "StyleView",
            "_model_name": "DescriptionStyleModel",
            "description_width": "",
            "_view_module": "@jupyter-widgets/base",
            "_model_module_version": "1.5.0",
            "_view_count": null,
            "_view_module_version": "1.2.0",
            "_model_module": "@jupyter-widgets/controls"
          }
        },
        "0932722f14d643d9ba9415996ab3024a": {
          "model_module": "@jupyter-widgets/base",
          "model_name": "LayoutModel",
          "model_module_version": "1.2.0",
          "state": {
            "_view_name": "LayoutView",
            "grid_template_rows": null,
            "right": null,
            "justify_content": null,
            "_view_module": "@jupyter-widgets/base",
            "overflow": null,
            "_model_module_version": "1.2.0",
            "_view_count": null,
            "flex_flow": null,
            "width": null,
            "min_width": null,
            "border": null,
            "align_items": null,
            "bottom": null,
            "_model_module": "@jupyter-widgets/base",
            "top": null,
            "grid_column": null,
            "overflow_y": null,
            "overflow_x": null,
            "grid_auto_flow": null,
            "grid_area": null,
            "grid_template_columns": null,
            "flex": null,
            "_model_name": "LayoutModel",
            "justify_items": null,
            "grid_row": null,
            "max_height": null,
            "align_content": null,
            "visibility": null,
            "align_self": null,
            "height": null,
            "min_height": null,
            "padding": null,
            "grid_auto_rows": null,
            "grid_gap": null,
            "max_width": null,
            "order": null,
            "_view_module_version": "1.2.0",
            "grid_template_areas": null,
            "object_position": null,
            "object_fit": null,
            "grid_auto_columns": null,
            "margin": null,
            "display": null,
            "left": null
          }
        },
        "90f3bbde90154ac99e01ba4634ce50a5": {
          "model_module": "@jupyter-widgets/controls",
          "model_name": "HBoxModel",
          "model_module_version": "1.5.0",
          "state": {
            "_view_name": "HBoxView",
            "_dom_classes": [],
            "_model_name": "HBoxModel",
            "_view_module": "@jupyter-widgets/controls",
            "_model_module_version": "1.5.0",
            "_view_count": null,
            "_view_module_version": "1.5.0",
            "box_style": "",
            "layout": "IPY_MODEL_6b9d4fd51cb4475788a7df4caab65ca3",
            "_model_module": "@jupyter-widgets/controls",
            "children": [
              "IPY_MODEL_df8174d57ab6476cb64cfccc5661a699",
              "IPY_MODEL_d645c7f30e5b49f6ba59c4ef53a7376b",
              "IPY_MODEL_18ff5e6ab0054f8cb873e338842d3521"
            ]
          }
        },
        "6b9d4fd51cb4475788a7df4caab65ca3": {
          "model_module": "@jupyter-widgets/base",
          "model_name": "LayoutModel",
          "model_module_version": "1.2.0",
          "state": {
            "_view_name": "LayoutView",
            "grid_template_rows": null,
            "right": null,
            "justify_content": null,
            "_view_module": "@jupyter-widgets/base",
            "overflow": null,
            "_model_module_version": "1.2.0",
            "_view_count": null,
            "flex_flow": null,
            "width": null,
            "min_width": null,
            "border": null,
            "align_items": null,
            "bottom": null,
            "_model_module": "@jupyter-widgets/base",
            "top": null,
            "grid_column": null,
            "overflow_y": null,
            "overflow_x": null,
            "grid_auto_flow": null,
            "grid_area": null,
            "grid_template_columns": null,
            "flex": null,
            "_model_name": "LayoutModel",
            "justify_items": null,
            "grid_row": null,
            "max_height": null,
            "align_content": null,
            "visibility": null,
            "align_self": null,
            "height": null,
            "min_height": null,
            "padding": null,
            "grid_auto_rows": null,
            "grid_gap": null,
            "max_width": null,
            "order": null,
            "_view_module_version": "1.2.0",
            "grid_template_areas": null,
            "object_position": null,
            "object_fit": null,
            "grid_auto_columns": null,
            "margin": null,
            "display": null,
            "left": null
          }
        },
        "df8174d57ab6476cb64cfccc5661a699": {
          "model_module": "@jupyter-widgets/controls",
          "model_name": "HTMLModel",
          "model_module_version": "1.5.0",
          "state": {
            "_view_name": "HTMLView",
            "style": "IPY_MODEL_1b05fd7f83cb46b99b00ea6a77d220d4",
            "_dom_classes": [],
            "description": "",
            "_model_name": "HTMLModel",
            "placeholder": "​",
            "_view_module": "@jupyter-widgets/controls",
            "_model_module_version": "1.5.0",
            "value": "",
            "_view_count": null,
            "_view_module_version": "1.5.0",
            "description_tooltip": null,
            "_model_module": "@jupyter-widgets/controls",
            "layout": "IPY_MODEL_4d4ada8cb6454696bf7c7d1e1c9a3518"
          }
        },
        "d645c7f30e5b49f6ba59c4ef53a7376b": {
          "model_module": "@jupyter-widgets/controls",
          "model_name": "FloatProgressModel",
          "model_module_version": "1.5.0",
          "state": {
            "_view_name": "ProgressView",
            "style": "IPY_MODEL_08c9d234556c4d1dadf15331d4e22d5e",
            "_dom_classes": [],
            "description": "",
            "_model_name": "FloatProgressModel",
            "bar_style": "success",
            "max": 28881,
            "_view_module": "@jupyter-widgets/controls",
            "_model_module_version": "1.5.0",
            "value": 28881,
            "_view_count": null,
            "_view_module_version": "1.5.0",
            "orientation": "horizontal",
            "min": 0,
            "description_tooltip": null,
            "_model_module": "@jupyter-widgets/controls",
            "layout": "IPY_MODEL_0fddc60cbe7f49dba1306d10805c801f"
          }
        },
        "18ff5e6ab0054f8cb873e338842d3521": {
          "model_module": "@jupyter-widgets/controls",
          "model_name": "HTMLModel",
          "model_module_version": "1.5.0",
          "state": {
            "_view_name": "HTMLView",
            "style": "IPY_MODEL_54929c3262cd457eaac70bb8ae95659c",
            "_dom_classes": [],
            "description": "",
            "_model_name": "HTMLModel",
            "placeholder": "​",
            "_view_module": "@jupyter-widgets/controls",
            "_model_module_version": "1.5.0",
            "value": " 29696/? [00:00&lt;00:00, 584360.26it/s]",
            "_view_count": null,
            "_view_module_version": "1.5.0",
            "description_tooltip": null,
            "_model_module": "@jupyter-widgets/controls",
            "layout": "IPY_MODEL_33035a434c494cc3b3f2c04371e1802e"
          }
        },
        "1b05fd7f83cb46b99b00ea6a77d220d4": {
          "model_module": "@jupyter-widgets/controls",
          "model_name": "DescriptionStyleModel",
          "model_module_version": "1.5.0",
          "state": {
            "_view_name": "StyleView",
            "_model_name": "DescriptionStyleModel",
            "description_width": "",
            "_view_module": "@jupyter-widgets/base",
            "_model_module_version": "1.5.0",
            "_view_count": null,
            "_view_module_version": "1.2.0",
            "_model_module": "@jupyter-widgets/controls"
          }
        },
        "4d4ada8cb6454696bf7c7d1e1c9a3518": {
          "model_module": "@jupyter-widgets/base",
          "model_name": "LayoutModel",
          "model_module_version": "1.2.0",
          "state": {
            "_view_name": "LayoutView",
            "grid_template_rows": null,
            "right": null,
            "justify_content": null,
            "_view_module": "@jupyter-widgets/base",
            "overflow": null,
            "_model_module_version": "1.2.0",
            "_view_count": null,
            "flex_flow": null,
            "width": null,
            "min_width": null,
            "border": null,
            "align_items": null,
            "bottom": null,
            "_model_module": "@jupyter-widgets/base",
            "top": null,
            "grid_column": null,
            "overflow_y": null,
            "overflow_x": null,
            "grid_auto_flow": null,
            "grid_area": null,
            "grid_template_columns": null,
            "flex": null,
            "_model_name": "LayoutModel",
            "justify_items": null,
            "grid_row": null,
            "max_height": null,
            "align_content": null,
            "visibility": null,
            "align_self": null,
            "height": null,
            "min_height": null,
            "padding": null,
            "grid_auto_rows": null,
            "grid_gap": null,
            "max_width": null,
            "order": null,
            "_view_module_version": "1.2.0",
            "grid_template_areas": null,
            "object_position": null,
            "object_fit": null,
            "grid_auto_columns": null,
            "margin": null,
            "display": null,
            "left": null
          }
        },
        "08c9d234556c4d1dadf15331d4e22d5e": {
          "model_module": "@jupyter-widgets/controls",
          "model_name": "ProgressStyleModel",
          "model_module_version": "1.5.0",
          "state": {
            "_view_name": "StyleView",
            "_model_name": "ProgressStyleModel",
            "description_width": "",
            "_view_module": "@jupyter-widgets/base",
            "_model_module_version": "1.5.0",
            "_view_count": null,
            "_view_module_version": "1.2.0",
            "bar_color": null,
            "_model_module": "@jupyter-widgets/controls"
          }
        },
        "0fddc60cbe7f49dba1306d10805c801f": {
          "model_module": "@jupyter-widgets/base",
          "model_name": "LayoutModel",
          "model_module_version": "1.2.0",
          "state": {
            "_view_name": "LayoutView",
            "grid_template_rows": null,
            "right": null,
            "justify_content": null,
            "_view_module": "@jupyter-widgets/base",
            "overflow": null,
            "_model_module_version": "1.2.0",
            "_view_count": null,
            "flex_flow": null,
            "width": null,
            "min_width": null,
            "border": null,
            "align_items": null,
            "bottom": null,
            "_model_module": "@jupyter-widgets/base",
            "top": null,
            "grid_column": null,
            "overflow_y": null,
            "overflow_x": null,
            "grid_auto_flow": null,
            "grid_area": null,
            "grid_template_columns": null,
            "flex": null,
            "_model_name": "LayoutModel",
            "justify_items": null,
            "grid_row": null,
            "max_height": null,
            "align_content": null,
            "visibility": null,
            "align_self": null,
            "height": null,
            "min_height": null,
            "padding": null,
            "grid_auto_rows": null,
            "grid_gap": null,
            "max_width": null,
            "order": null,
            "_view_module_version": "1.2.0",
            "grid_template_areas": null,
            "object_position": null,
            "object_fit": null,
            "grid_auto_columns": null,
            "margin": null,
            "display": null,
            "left": null
          }
        },
        "54929c3262cd457eaac70bb8ae95659c": {
          "model_module": "@jupyter-widgets/controls",
          "model_name": "DescriptionStyleModel",
          "model_module_version": "1.5.0",
          "state": {
            "_view_name": "StyleView",
            "_model_name": "DescriptionStyleModel",
            "description_width": "",
            "_view_module": "@jupyter-widgets/base",
            "_model_module_version": "1.5.0",
            "_view_count": null,
            "_view_module_version": "1.2.0",
            "_model_module": "@jupyter-widgets/controls"
          }
        },
        "33035a434c494cc3b3f2c04371e1802e": {
          "model_module": "@jupyter-widgets/base",
          "model_name": "LayoutModel",
          "model_module_version": "1.2.0",
          "state": {
            "_view_name": "LayoutView",
            "grid_template_rows": null,
            "right": null,
            "justify_content": null,
            "_view_module": "@jupyter-widgets/base",
            "overflow": null,
            "_model_module_version": "1.2.0",
            "_view_count": null,
            "flex_flow": null,
            "width": null,
            "min_width": null,
            "border": null,
            "align_items": null,
            "bottom": null,
            "_model_module": "@jupyter-widgets/base",
            "top": null,
            "grid_column": null,
            "overflow_y": null,
            "overflow_x": null,
            "grid_auto_flow": null,
            "grid_area": null,
            "grid_template_columns": null,
            "flex": null,
            "_model_name": "LayoutModel",
            "justify_items": null,
            "grid_row": null,
            "max_height": null,
            "align_content": null,
            "visibility": null,
            "align_self": null,
            "height": null,
            "min_height": null,
            "padding": null,
            "grid_auto_rows": null,
            "grid_gap": null,
            "max_width": null,
            "order": null,
            "_view_module_version": "1.2.0",
            "grid_template_areas": null,
            "object_position": null,
            "object_fit": null,
            "grid_auto_columns": null,
            "margin": null,
            "display": null,
            "left": null
          }
        },
        "140ed9dcc56a487dbd5f15fe474dfeba": {
          "model_module": "@jupyter-widgets/controls",
          "model_name": "HBoxModel",
          "model_module_version": "1.5.0",
          "state": {
            "_view_name": "HBoxView",
            "_dom_classes": [],
            "_model_name": "HBoxModel",
            "_view_module": "@jupyter-widgets/controls",
            "_model_module_version": "1.5.0",
            "_view_count": null,
            "_view_module_version": "1.5.0",
            "box_style": "",
            "layout": "IPY_MODEL_c99b3a59838b42a0b1404b6feca79c69",
            "_model_module": "@jupyter-widgets/controls",
            "children": [
              "IPY_MODEL_f1db77f7ec2e4bf89eb243d054ce5694",
              "IPY_MODEL_819f158cf90147cfb6c3ad27d6c79b93",
              "IPY_MODEL_f288aafa825040ed9c93084676a396a5"
            ]
          }
        },
        "c99b3a59838b42a0b1404b6feca79c69": {
          "model_module": "@jupyter-widgets/base",
          "model_name": "LayoutModel",
          "model_module_version": "1.2.0",
          "state": {
            "_view_name": "LayoutView",
            "grid_template_rows": null,
            "right": null,
            "justify_content": null,
            "_view_module": "@jupyter-widgets/base",
            "overflow": null,
            "_model_module_version": "1.2.0",
            "_view_count": null,
            "flex_flow": null,
            "width": null,
            "min_width": null,
            "border": null,
            "align_items": null,
            "bottom": null,
            "_model_module": "@jupyter-widgets/base",
            "top": null,
            "grid_column": null,
            "overflow_y": null,
            "overflow_x": null,
            "grid_auto_flow": null,
            "grid_area": null,
            "grid_template_columns": null,
            "flex": null,
            "_model_name": "LayoutModel",
            "justify_items": null,
            "grid_row": null,
            "max_height": null,
            "align_content": null,
            "visibility": null,
            "align_self": null,
            "height": null,
            "min_height": null,
            "padding": null,
            "grid_auto_rows": null,
            "grid_gap": null,
            "max_width": null,
            "order": null,
            "_view_module_version": "1.2.0",
            "grid_template_areas": null,
            "object_position": null,
            "object_fit": null,
            "grid_auto_columns": null,
            "margin": null,
            "display": null,
            "left": null
          }
        },
        "f1db77f7ec2e4bf89eb243d054ce5694": {
          "model_module": "@jupyter-widgets/controls",
          "model_name": "HTMLModel",
          "model_module_version": "1.5.0",
          "state": {
            "_view_name": "HTMLView",
            "style": "IPY_MODEL_ebb98303e81c47c1b41f5f1349b14138",
            "_dom_classes": [],
            "description": "",
            "_model_name": "HTMLModel",
            "placeholder": "​",
            "_view_module": "@jupyter-widgets/controls",
            "_model_module_version": "1.5.0",
            "value": "",
            "_view_count": null,
            "_view_module_version": "1.5.0",
            "description_tooltip": null,
            "_model_module": "@jupyter-widgets/controls",
            "layout": "IPY_MODEL_0c3c4859741842619d411759a76020f2"
          }
        },
        "819f158cf90147cfb6c3ad27d6c79b93": {
          "model_module": "@jupyter-widgets/controls",
          "model_name": "FloatProgressModel",
          "model_module_version": "1.5.0",
          "state": {
            "_view_name": "ProgressView",
            "style": "IPY_MODEL_e344fc0be1bb4f4b8d5c48846fa8a5a6",
            "_dom_classes": [],
            "description": "",
            "_model_name": "FloatProgressModel",
            "bar_style": "success",
            "max": 1648877,
            "_view_module": "@jupyter-widgets/controls",
            "_model_module_version": "1.5.0",
            "value": 1648877,
            "_view_count": null,
            "_view_module_version": "1.5.0",
            "orientation": "horizontal",
            "min": 0,
            "description_tooltip": null,
            "_model_module": "@jupyter-widgets/controls",
            "layout": "IPY_MODEL_3fadb7966b09475ea264a8aa4f1ef38f"
          }
        },
        "f288aafa825040ed9c93084676a396a5": {
          "model_module": "@jupyter-widgets/controls",
          "model_name": "HTMLModel",
          "model_module_version": "1.5.0",
          "state": {
            "_view_name": "HTMLView",
            "style": "IPY_MODEL_60617b623c4c4d329f384e7edd28a07e",
            "_dom_classes": [],
            "description": "",
            "_model_name": "HTMLModel",
            "placeholder": "​",
            "_view_module": "@jupyter-widgets/controls",
            "_model_module_version": "1.5.0",
            "value": " 1649664/? [00:00&lt;00:00, 3245866.41it/s]",
            "_view_count": null,
            "_view_module_version": "1.5.0",
            "description_tooltip": null,
            "_model_module": "@jupyter-widgets/controls",
            "layout": "IPY_MODEL_7861d12f93b24b7dba173b158183082b"
          }
        },
        "ebb98303e81c47c1b41f5f1349b14138": {
          "model_module": "@jupyter-widgets/controls",
          "model_name": "DescriptionStyleModel",
          "model_module_version": "1.5.0",
          "state": {
            "_view_name": "StyleView",
            "_model_name": "DescriptionStyleModel",
            "description_width": "",
            "_view_module": "@jupyter-widgets/base",
            "_model_module_version": "1.5.0",
            "_view_count": null,
            "_view_module_version": "1.2.0",
            "_model_module": "@jupyter-widgets/controls"
          }
        },
        "0c3c4859741842619d411759a76020f2": {
          "model_module": "@jupyter-widgets/base",
          "model_name": "LayoutModel",
          "model_module_version": "1.2.0",
          "state": {
            "_view_name": "LayoutView",
            "grid_template_rows": null,
            "right": null,
            "justify_content": null,
            "_view_module": "@jupyter-widgets/base",
            "overflow": null,
            "_model_module_version": "1.2.0",
            "_view_count": null,
            "flex_flow": null,
            "width": null,
            "min_width": null,
            "border": null,
            "align_items": null,
            "bottom": null,
            "_model_module": "@jupyter-widgets/base",
            "top": null,
            "grid_column": null,
            "overflow_y": null,
            "overflow_x": null,
            "grid_auto_flow": null,
            "grid_area": null,
            "grid_template_columns": null,
            "flex": null,
            "_model_name": "LayoutModel",
            "justify_items": null,
            "grid_row": null,
            "max_height": null,
            "align_content": null,
            "visibility": null,
            "align_self": null,
            "height": null,
            "min_height": null,
            "padding": null,
            "grid_auto_rows": null,
            "grid_gap": null,
            "max_width": null,
            "order": null,
            "_view_module_version": "1.2.0",
            "grid_template_areas": null,
            "object_position": null,
            "object_fit": null,
            "grid_auto_columns": null,
            "margin": null,
            "display": null,
            "left": null
          }
        },
        "e344fc0be1bb4f4b8d5c48846fa8a5a6": {
          "model_module": "@jupyter-widgets/controls",
          "model_name": "ProgressStyleModel",
          "model_module_version": "1.5.0",
          "state": {
            "_view_name": "StyleView",
            "_model_name": "ProgressStyleModel",
            "description_width": "",
            "_view_module": "@jupyter-widgets/base",
            "_model_module_version": "1.5.0",
            "_view_count": null,
            "_view_module_version": "1.2.0",
            "bar_color": null,
            "_model_module": "@jupyter-widgets/controls"
          }
        },
        "3fadb7966b09475ea264a8aa4f1ef38f": {
          "model_module": "@jupyter-widgets/base",
          "model_name": "LayoutModel",
          "model_module_version": "1.2.0",
          "state": {
            "_view_name": "LayoutView",
            "grid_template_rows": null,
            "right": null,
            "justify_content": null,
            "_view_module": "@jupyter-widgets/base",
            "overflow": null,
            "_model_module_version": "1.2.0",
            "_view_count": null,
            "flex_flow": null,
            "width": null,
            "min_width": null,
            "border": null,
            "align_items": null,
            "bottom": null,
            "_model_module": "@jupyter-widgets/base",
            "top": null,
            "grid_column": null,
            "overflow_y": null,
            "overflow_x": null,
            "grid_auto_flow": null,
            "grid_area": null,
            "grid_template_columns": null,
            "flex": null,
            "_model_name": "LayoutModel",
            "justify_items": null,
            "grid_row": null,
            "max_height": null,
            "align_content": null,
            "visibility": null,
            "align_self": null,
            "height": null,
            "min_height": null,
            "padding": null,
            "grid_auto_rows": null,
            "grid_gap": null,
            "max_width": null,
            "order": null,
            "_view_module_version": "1.2.0",
            "grid_template_areas": null,
            "object_position": null,
            "object_fit": null,
            "grid_auto_columns": null,
            "margin": null,
            "display": null,
            "left": null
          }
        },
        "60617b623c4c4d329f384e7edd28a07e": {
          "model_module": "@jupyter-widgets/controls",
          "model_name": "DescriptionStyleModel",
          "model_module_version": "1.5.0",
          "state": {
            "_view_name": "StyleView",
            "_model_name": "DescriptionStyleModel",
            "description_width": "",
            "_view_module": "@jupyter-widgets/base",
            "_model_module_version": "1.5.0",
            "_view_count": null,
            "_view_module_version": "1.2.0",
            "_model_module": "@jupyter-widgets/controls"
          }
        },
        "7861d12f93b24b7dba173b158183082b": {
          "model_module": "@jupyter-widgets/base",
          "model_name": "LayoutModel",
          "model_module_version": "1.2.0",
          "state": {
            "_view_name": "LayoutView",
            "grid_template_rows": null,
            "right": null,
            "justify_content": null,
            "_view_module": "@jupyter-widgets/base",
            "overflow": null,
            "_model_module_version": "1.2.0",
            "_view_count": null,
            "flex_flow": null,
            "width": null,
            "min_width": null,
            "border": null,
            "align_items": null,
            "bottom": null,
            "_model_module": "@jupyter-widgets/base",
            "top": null,
            "grid_column": null,
            "overflow_y": null,
            "overflow_x": null,
            "grid_auto_flow": null,
            "grid_area": null,
            "grid_template_columns": null,
            "flex": null,
            "_model_name": "LayoutModel",
            "justify_items": null,
            "grid_row": null,
            "max_height": null,
            "align_content": null,
            "visibility": null,
            "align_self": null,
            "height": null,
            "min_height": null,
            "padding": null,
            "grid_auto_rows": null,
            "grid_gap": null,
            "max_width": null,
            "order": null,
            "_view_module_version": "1.2.0",
            "grid_template_areas": null,
            "object_position": null,
            "object_fit": null,
            "grid_auto_columns": null,
            "margin": null,
            "display": null,
            "left": null
          }
        },
        "afe2c51500454e5c96fa3d561666b024": {
          "model_module": "@jupyter-widgets/controls",
          "model_name": "HBoxModel",
          "model_module_version": "1.5.0",
          "state": {
            "_view_name": "HBoxView",
            "_dom_classes": [],
            "_model_name": "HBoxModel",
            "_view_module": "@jupyter-widgets/controls",
            "_model_module_version": "1.5.0",
            "_view_count": null,
            "_view_module_version": "1.5.0",
            "box_style": "",
            "layout": "IPY_MODEL_30c4828534134fb9a974d58e1b20b550",
            "_model_module": "@jupyter-widgets/controls",
            "children": [
              "IPY_MODEL_f47a84cb1a2b4abc97598cc273220637",
              "IPY_MODEL_679d13f2266f4e07b523c0586636f778",
              "IPY_MODEL_5bf8e393abca48e88a8378872f489dcb"
            ]
          }
        },
        "30c4828534134fb9a974d58e1b20b550": {
          "model_module": "@jupyter-widgets/base",
          "model_name": "LayoutModel",
          "model_module_version": "1.2.0",
          "state": {
            "_view_name": "LayoutView",
            "grid_template_rows": null,
            "right": null,
            "justify_content": null,
            "_view_module": "@jupyter-widgets/base",
            "overflow": null,
            "_model_module_version": "1.2.0",
            "_view_count": null,
            "flex_flow": null,
            "width": null,
            "min_width": null,
            "border": null,
            "align_items": null,
            "bottom": null,
            "_model_module": "@jupyter-widgets/base",
            "top": null,
            "grid_column": null,
            "overflow_y": null,
            "overflow_x": null,
            "grid_auto_flow": null,
            "grid_area": null,
            "grid_template_columns": null,
            "flex": null,
            "_model_name": "LayoutModel",
            "justify_items": null,
            "grid_row": null,
            "max_height": null,
            "align_content": null,
            "visibility": null,
            "align_self": null,
            "height": null,
            "min_height": null,
            "padding": null,
            "grid_auto_rows": null,
            "grid_gap": null,
            "max_width": null,
            "order": null,
            "_view_module_version": "1.2.0",
            "grid_template_areas": null,
            "object_position": null,
            "object_fit": null,
            "grid_auto_columns": null,
            "margin": null,
            "display": null,
            "left": null
          }
        },
        "f47a84cb1a2b4abc97598cc273220637": {
          "model_module": "@jupyter-widgets/controls",
          "model_name": "HTMLModel",
          "model_module_version": "1.5.0",
          "state": {
            "_view_name": "HTMLView",
            "style": "IPY_MODEL_1d1139a978bf4ca19a5a68e4326b00ec",
            "_dom_classes": [],
            "description": "",
            "_model_name": "HTMLModel",
            "placeholder": "​",
            "_view_module": "@jupyter-widgets/controls",
            "_model_module_version": "1.5.0",
            "value": "",
            "_view_count": null,
            "_view_module_version": "1.5.0",
            "description_tooltip": null,
            "_model_module": "@jupyter-widgets/controls",
            "layout": "IPY_MODEL_9f24a38f749c43cb94e0d52cc85a729b"
          }
        },
        "679d13f2266f4e07b523c0586636f778": {
          "model_module": "@jupyter-widgets/controls",
          "model_name": "FloatProgressModel",
          "model_module_version": "1.5.0",
          "state": {
            "_view_name": "ProgressView",
            "style": "IPY_MODEL_50493f219a204cb1a5eacb5355be680e",
            "_dom_classes": [],
            "description": "",
            "_model_name": "FloatProgressModel",
            "bar_style": "success",
            "max": 4542,
            "_view_module": "@jupyter-widgets/controls",
            "_model_module_version": "1.5.0",
            "value": 4542,
            "_view_count": null,
            "_view_module_version": "1.5.0",
            "orientation": "horizontal",
            "min": 0,
            "description_tooltip": null,
            "_model_module": "@jupyter-widgets/controls",
            "layout": "IPY_MODEL_c5bd6249778a4c65a50cd9a8a59c8c89"
          }
        },
        "5bf8e393abca48e88a8378872f489dcb": {
          "model_module": "@jupyter-widgets/controls",
          "model_name": "HTMLModel",
          "model_module_version": "1.5.0",
          "state": {
            "_view_name": "HTMLView",
            "style": "IPY_MODEL_394fa40124ab4a358fb69d9431a1fb16",
            "_dom_classes": [],
            "description": "",
            "_model_name": "HTMLModel",
            "placeholder": "​",
            "_view_module": "@jupyter-widgets/controls",
            "_model_module_version": "1.5.0",
            "value": " 5120/? [00:00&lt;00:00, 91745.36it/s]",
            "_view_count": null,
            "_view_module_version": "1.5.0",
            "description_tooltip": null,
            "_model_module": "@jupyter-widgets/controls",
            "layout": "IPY_MODEL_6a753b21e10249928975f68670b9a009"
          }
        },
        "1d1139a978bf4ca19a5a68e4326b00ec": {
          "model_module": "@jupyter-widgets/controls",
          "model_name": "DescriptionStyleModel",
          "model_module_version": "1.5.0",
          "state": {
            "_view_name": "StyleView",
            "_model_name": "DescriptionStyleModel",
            "description_width": "",
            "_view_module": "@jupyter-widgets/base",
            "_model_module_version": "1.5.0",
            "_view_count": null,
            "_view_module_version": "1.2.0",
            "_model_module": "@jupyter-widgets/controls"
          }
        },
        "9f24a38f749c43cb94e0d52cc85a729b": {
          "model_module": "@jupyter-widgets/base",
          "model_name": "LayoutModel",
          "model_module_version": "1.2.0",
          "state": {
            "_view_name": "LayoutView",
            "grid_template_rows": null,
            "right": null,
            "justify_content": null,
            "_view_module": "@jupyter-widgets/base",
            "overflow": null,
            "_model_module_version": "1.2.0",
            "_view_count": null,
            "flex_flow": null,
            "width": null,
            "min_width": null,
            "border": null,
            "align_items": null,
            "bottom": null,
            "_model_module": "@jupyter-widgets/base",
            "top": null,
            "grid_column": null,
            "overflow_y": null,
            "overflow_x": null,
            "grid_auto_flow": null,
            "grid_area": null,
            "grid_template_columns": null,
            "flex": null,
            "_model_name": "LayoutModel",
            "justify_items": null,
            "grid_row": null,
            "max_height": null,
            "align_content": null,
            "visibility": null,
            "align_self": null,
            "height": null,
            "min_height": null,
            "padding": null,
            "grid_auto_rows": null,
            "grid_gap": null,
            "max_width": null,
            "order": null,
            "_view_module_version": "1.2.0",
            "grid_template_areas": null,
            "object_position": null,
            "object_fit": null,
            "grid_auto_columns": null,
            "margin": null,
            "display": null,
            "left": null
          }
        },
        "50493f219a204cb1a5eacb5355be680e": {
          "model_module": "@jupyter-widgets/controls",
          "model_name": "ProgressStyleModel",
          "model_module_version": "1.5.0",
          "state": {
            "_view_name": "StyleView",
            "_model_name": "ProgressStyleModel",
            "description_width": "",
            "_view_module": "@jupyter-widgets/base",
            "_model_module_version": "1.5.0",
            "_view_count": null,
            "_view_module_version": "1.2.0",
            "bar_color": null,
            "_model_module": "@jupyter-widgets/controls"
          }
        },
        "c5bd6249778a4c65a50cd9a8a59c8c89": {
          "model_module": "@jupyter-widgets/base",
          "model_name": "LayoutModel",
          "model_module_version": "1.2.0",
          "state": {
            "_view_name": "LayoutView",
            "grid_template_rows": null,
            "right": null,
            "justify_content": null,
            "_view_module": "@jupyter-widgets/base",
            "overflow": null,
            "_model_module_version": "1.2.0",
            "_view_count": null,
            "flex_flow": null,
            "width": null,
            "min_width": null,
            "border": null,
            "align_items": null,
            "bottom": null,
            "_model_module": "@jupyter-widgets/base",
            "top": null,
            "grid_column": null,
            "overflow_y": null,
            "overflow_x": null,
            "grid_auto_flow": null,
            "grid_area": null,
            "grid_template_columns": null,
            "flex": null,
            "_model_name": "LayoutModel",
            "justify_items": null,
            "grid_row": null,
            "max_height": null,
            "align_content": null,
            "visibility": null,
            "align_self": null,
            "height": null,
            "min_height": null,
            "padding": null,
            "grid_auto_rows": null,
            "grid_gap": null,
            "max_width": null,
            "order": null,
            "_view_module_version": "1.2.0",
            "grid_template_areas": null,
            "object_position": null,
            "object_fit": null,
            "grid_auto_columns": null,
            "margin": null,
            "display": null,
            "left": null
          }
        },
        "394fa40124ab4a358fb69d9431a1fb16": {
          "model_module": "@jupyter-widgets/controls",
          "model_name": "DescriptionStyleModel",
          "model_module_version": "1.5.0",
          "state": {
            "_view_name": "StyleView",
            "_model_name": "DescriptionStyleModel",
            "description_width": "",
            "_view_module": "@jupyter-widgets/base",
            "_model_module_version": "1.5.0",
            "_view_count": null,
            "_view_module_version": "1.2.0",
            "_model_module": "@jupyter-widgets/controls"
          }
        },
        "6a753b21e10249928975f68670b9a009": {
          "model_module": "@jupyter-widgets/base",
          "model_name": "LayoutModel",
          "model_module_version": "1.2.0",
          "state": {
            "_view_name": "LayoutView",
            "grid_template_rows": null,
            "right": null,
            "justify_content": null,
            "_view_module": "@jupyter-widgets/base",
            "overflow": null,
            "_model_module_version": "1.2.0",
            "_view_count": null,
            "flex_flow": null,
            "width": null,
            "min_width": null,
            "border": null,
            "align_items": null,
            "bottom": null,
            "_model_module": "@jupyter-widgets/base",
            "top": null,
            "grid_column": null,
            "overflow_y": null,
            "overflow_x": null,
            "grid_auto_flow": null,
            "grid_area": null,
            "grid_template_columns": null,
            "flex": null,
            "_model_name": "LayoutModel",
            "justify_items": null,
            "grid_row": null,
            "max_height": null,
            "align_content": null,
            "visibility": null,
            "align_self": null,
            "height": null,
            "min_height": null,
            "padding": null,
            "grid_auto_rows": null,
            "grid_gap": null,
            "max_width": null,
            "order": null,
            "_view_module_version": "1.2.0",
            "grid_template_areas": null,
            "object_position": null,
            "object_fit": null,
            "grid_auto_columns": null,
            "margin": null,
            "display": null,
            "left": null
          }
        }
      }
    }
  },
  "cells": [
    {
      "cell_type": "markdown",
      "metadata": {
        "id": "view-in-github",
        "colab_type": "text"
      },
      "source": [
        "<a href=\"https://colab.research.google.com/github/rimiiii/basic/blob/main/torch_RNN_with_MNIST.ipynb\" target=\"_parent\"><img src=\"https://colab.research.google.com/assets/colab-badge.svg\" alt=\"Open In Colab\"/></a>"
      ]
    },
    {
      "cell_type": "code",
      "metadata": {
        "colab": {
          "base_uri": "https://localhost:8080/"
        },
        "id": "sK4_J97Ramd8",
        "outputId": "5802ad32-2eb7-4c3d-bbf5-a506eabdeec5"
      },
      "source": [
        "!pip install torchsummaryX"
      ],
      "execution_count": 3,
      "outputs": [
        {
          "output_type": "stream",
          "name": "stdout",
          "text": [
            "Collecting torchsummaryX\n",
            "  Downloading torchsummaryX-1.3.0-py3-none-any.whl (3.6 kB)\n",
            "Requirement already satisfied: numpy in /usr/local/lib/python3.7/dist-packages (from torchsummaryX) (1.19.5)\n",
            "Requirement already satisfied: pandas in /usr/local/lib/python3.7/dist-packages (from torchsummaryX) (1.1.5)\n",
            "Requirement already satisfied: torch in /usr/local/lib/python3.7/dist-packages (from torchsummaryX) (1.10.0+cu111)\n",
            "Requirement already satisfied: python-dateutil>=2.7.3 in /usr/local/lib/python3.7/dist-packages (from pandas->torchsummaryX) (2.8.2)\n",
            "Requirement already satisfied: pytz>=2017.2 in /usr/local/lib/python3.7/dist-packages (from pandas->torchsummaryX) (2018.9)\n",
            "Requirement already satisfied: six>=1.5 in /usr/local/lib/python3.7/dist-packages (from python-dateutil>=2.7.3->pandas->torchsummaryX) (1.15.0)\n",
            "Requirement already satisfied: typing-extensions in /usr/local/lib/python3.7/dist-packages (from torch->torchsummaryX) (3.10.0.2)\n",
            "Installing collected packages: torchsummaryX\n",
            "Successfully installed torchsummaryX-1.3.0\n"
          ]
        }
      ]
    },
    {
      "cell_type": "code",
      "metadata": {
        "colab": {
          "base_uri": "https://localhost:8080/"
        },
        "id": "6bKcck-rbW8P",
        "outputId": "365c1029-6831-4604-91cd-e667f9bd7f4e"
      },
      "source": [
        "!pip install torchviz"
      ],
      "execution_count": 17,
      "outputs": [
        {
          "output_type": "stream",
          "name": "stdout",
          "text": [
            "Collecting torchviz\n",
            "  Downloading torchviz-0.0.2.tar.gz (4.9 kB)\n",
            "Requirement already satisfied: torch in /usr/local/lib/python3.7/dist-packages (from torchviz) (1.10.0+cu111)\n",
            "Requirement already satisfied: graphviz in /usr/local/lib/python3.7/dist-packages (from torchviz) (0.10.1)\n",
            "Requirement already satisfied: typing-extensions in /usr/local/lib/python3.7/dist-packages (from torch->torchviz) (3.10.0.2)\n",
            "Building wheels for collected packages: torchviz\n",
            "  Building wheel for torchviz (setup.py) ... \u001b[?25l\u001b[?25hdone\n",
            "  Created wheel for torchviz: filename=torchviz-0.0.2-py3-none-any.whl size=4151 sha256=9627d1444708fe95724b12a4464e0568f007d698c070a192c75933150b2324cd\n",
            "  Stored in directory: /root/.cache/pip/wheels/04/38/f5/dc4f85c3909051823df49901e72015d2d750bd26b086480ec2\n",
            "Successfully built torchviz\n",
            "Installing collected packages: torchviz\n",
            "Successfully installed torchviz-0.0.2\n"
          ]
        }
      ]
    },
    {
      "cell_type": "markdown",
      "metadata": {
        "id": "dir-cAFCY837"
      },
      "source": [
        "# 모듈 불러오기"
      ]
    },
    {
      "cell_type": "code",
      "metadata": {
        "id": "vVEZQsRCYmIA"
      },
      "source": [
        "import torch\n",
        "import torch.nn as nn\n",
        "import torch.nn.functional as F\n",
        "import torch.optim as optim\n",
        "from torchvision import datasets, transforms\n",
        "from torchsummaryX import summary\n",
        "from torchviz import make_dot\n",
        "\n",
        "from matplotlib import pyplot as plt\n",
        "%matplotlib inline"
      ],
      "execution_count": 18,
      "outputs": []
    },
    {
      "cell_type": "markdown",
      "metadata": {
        "id": "bHIo7ObvZDAf"
      },
      "source": [
        "# 분석 환경 설정"
      ]
    },
    {
      "cell_type": "code",
      "metadata": {
        "colab": {
          "base_uri": "https://localhost:8080/"
        },
        "id": "wfOXQ5n0Y8Ur",
        "outputId": "46dda64c-9731-428f-e987-578a8bbb0dc6"
      },
      "source": [
        "is_cuda = torch.cuda.is_available()\n",
        "device = torch.device('cuda' if is_cuda else 'cpu')\n",
        "\n",
        "print('Current cuda device is', device)"
      ],
      "execution_count": 5,
      "outputs": [
        {
          "output_type": "stream",
          "name": "stdout",
          "text": [
            "Current cuda device is cuda\n"
          ]
        }
      ]
    },
    {
      "cell_type": "markdown",
      "metadata": {
        "id": "CRzQqqWsaVVc"
      },
      "source": [
        "# Hyperparameter 지정"
      ]
    },
    {
      "cell_type": "code",
      "metadata": {
        "id": "bHdsoHC6aaWl"
      },
      "source": [
        "batch_size = 50\n",
        "epoch_num = 20\n",
        "learning_rate = 0.0001\n",
        "hidden_size = 128\n",
        "num_layers = 2"
      ],
      "execution_count": 6,
      "outputs": []
    },
    {
      "cell_type": "markdown",
      "metadata": {
        "id": "i_auknrbafsg"
      },
      "source": [
        "# 데이터 불러오기"
      ]
    },
    {
      "cell_type": "code",
      "metadata": {
        "colab": {
          "base_uri": "https://localhost:8080/",
          "height": 451,
          "referenced_widgets": [
            "1c93f77aeaca409c91690a7e7af8d712",
            "cb0dfa13695f4bde8d3a51b5c2b1b961",
            "66c5eba4d41e4d27af114b1ce7ed90e6",
            "e31de8aea3de47569051c57d71873f30",
            "33c054c7bc42460db010e08b1ddc47ba",
            "62787312e3a749f08662e6eea6dcc2ee",
            "6eb2584e10904606b35577104c44104c",
            "8786ae629f6c4791a2a9aae91d10bec2",
            "398e80414d4a4595aaffb61a78f90169",
            "7f47b5a5a01747a5a4af2e0a9199aeac",
            "0932722f14d643d9ba9415996ab3024a",
            "90f3bbde90154ac99e01ba4634ce50a5",
            "6b9d4fd51cb4475788a7df4caab65ca3",
            "df8174d57ab6476cb64cfccc5661a699",
            "d645c7f30e5b49f6ba59c4ef53a7376b",
            "18ff5e6ab0054f8cb873e338842d3521",
            "1b05fd7f83cb46b99b00ea6a77d220d4",
            "4d4ada8cb6454696bf7c7d1e1c9a3518",
            "08c9d234556c4d1dadf15331d4e22d5e",
            "0fddc60cbe7f49dba1306d10805c801f",
            "54929c3262cd457eaac70bb8ae95659c",
            "33035a434c494cc3b3f2c04371e1802e",
            "140ed9dcc56a487dbd5f15fe474dfeba",
            "c99b3a59838b42a0b1404b6feca79c69",
            "f1db77f7ec2e4bf89eb243d054ce5694",
            "819f158cf90147cfb6c3ad27d6c79b93",
            "f288aafa825040ed9c93084676a396a5",
            "ebb98303e81c47c1b41f5f1349b14138",
            "0c3c4859741842619d411759a76020f2",
            "e344fc0be1bb4f4b8d5c48846fa8a5a6",
            "3fadb7966b09475ea264a8aa4f1ef38f",
            "60617b623c4c4d329f384e7edd28a07e",
            "7861d12f93b24b7dba173b158183082b",
            "afe2c51500454e5c96fa3d561666b024",
            "30c4828534134fb9a974d58e1b20b550",
            "f47a84cb1a2b4abc97598cc273220637",
            "679d13f2266f4e07b523c0586636f778",
            "5bf8e393abca48e88a8378872f489dcb",
            "1d1139a978bf4ca19a5a68e4326b00ec",
            "9f24a38f749c43cb94e0d52cc85a729b",
            "50493f219a204cb1a5eacb5355be680e",
            "c5bd6249778a4c65a50cd9a8a59c8c89",
            "394fa40124ab4a358fb69d9431a1fb16",
            "6a753b21e10249928975f68670b9a009"
          ]
        },
        "id": "q63KMhukaiFu",
        "outputId": "f237b63f-ed37-49c1-bc72-948964c084a5"
      },
      "source": [
        "train = datasets.MNIST(root='./data', train=True, download=True,\n",
        "                       transform=transforms.ToTensor())\n",
        "test = datasets.MNIST(root='./data', train=False, download=True,\n",
        "                      transform=transforms.ToTensor())\n",
        "\n",
        "print('number of training data', len(train))\n",
        "print('number of test data', len(test))"
      ],
      "execution_count": 7,
      "outputs": [
        {
          "output_type": "stream",
          "name": "stdout",
          "text": [
            "Downloading http://yann.lecun.com/exdb/mnist/train-images-idx3-ubyte.gz\n",
            "Downloading http://yann.lecun.com/exdb/mnist/train-images-idx3-ubyte.gz to ./data/MNIST/raw/train-images-idx3-ubyte.gz\n"
          ]
        },
        {
          "output_type": "display_data",
          "data": {
            "application/vnd.jupyter.widget-view+json": {
              "model_id": "1c93f77aeaca409c91690a7e7af8d712",
              "version_minor": 0,
              "version_major": 2
            },
            "text/plain": [
              "  0%|          | 0/9912422 [00:00<?, ?it/s]"
            ]
          },
          "metadata": {}
        },
        {
          "output_type": "stream",
          "name": "stdout",
          "text": [
            "Extracting ./data/MNIST/raw/train-images-idx3-ubyte.gz to ./data/MNIST/raw\n",
            "\n",
            "Downloading http://yann.lecun.com/exdb/mnist/train-labels-idx1-ubyte.gz\n",
            "Downloading http://yann.lecun.com/exdb/mnist/train-labels-idx1-ubyte.gz to ./data/MNIST/raw/train-labels-idx1-ubyte.gz\n"
          ]
        },
        {
          "output_type": "display_data",
          "data": {
            "application/vnd.jupyter.widget-view+json": {
              "model_id": "90f3bbde90154ac99e01ba4634ce50a5",
              "version_minor": 0,
              "version_major": 2
            },
            "text/plain": [
              "  0%|          | 0/28881 [00:00<?, ?it/s]"
            ]
          },
          "metadata": {}
        },
        {
          "output_type": "stream",
          "name": "stdout",
          "text": [
            "Extracting ./data/MNIST/raw/train-labels-idx1-ubyte.gz to ./data/MNIST/raw\n",
            "\n",
            "Downloading http://yann.lecun.com/exdb/mnist/t10k-images-idx3-ubyte.gz\n",
            "Downloading http://yann.lecun.com/exdb/mnist/t10k-images-idx3-ubyte.gz to ./data/MNIST/raw/t10k-images-idx3-ubyte.gz\n"
          ]
        },
        {
          "output_type": "display_data",
          "data": {
            "application/vnd.jupyter.widget-view+json": {
              "model_id": "140ed9dcc56a487dbd5f15fe474dfeba",
              "version_minor": 0,
              "version_major": 2
            },
            "text/plain": [
              "  0%|          | 0/1648877 [00:00<?, ?it/s]"
            ]
          },
          "metadata": {}
        },
        {
          "output_type": "stream",
          "name": "stdout",
          "text": [
            "Extracting ./data/MNIST/raw/t10k-images-idx3-ubyte.gz to ./data/MNIST/raw\n",
            "\n",
            "Downloading http://yann.lecun.com/exdb/mnist/t10k-labels-idx1-ubyte.gz\n",
            "Downloading http://yann.lecun.com/exdb/mnist/t10k-labels-idx1-ubyte.gz to ./data/MNIST/raw/t10k-labels-idx1-ubyte.gz\n"
          ]
        },
        {
          "output_type": "display_data",
          "data": {
            "application/vnd.jupyter.widget-view+json": {
              "model_id": "afe2c51500454e5c96fa3d561666b024",
              "version_minor": 0,
              "version_major": 2
            },
            "text/plain": [
              "  0%|          | 0/4542 [00:00<?, ?it/s]"
            ]
          },
          "metadata": {}
        },
        {
          "output_type": "stream",
          "name": "stdout",
          "text": [
            "Extracting ./data/MNIST/raw/t10k-labels-idx1-ubyte.gz to ./data/MNIST/raw\n",
            "\n",
            "number of training data 60000\n",
            "number of test data 10000\n"
          ]
        }
      ]
    },
    {
      "cell_type": "markdown",
      "metadata": {
        "id": "yGeGaXUlbDOj"
      },
      "source": [
        "# MNIST 데이터 확인하기"
      ]
    },
    {
      "cell_type": "code",
      "metadata": {
        "colab": {
          "base_uri": "https://localhost:8080/",
          "height": 298
        },
        "id": "yr5lrwhabODq",
        "outputId": "6847dcbe-2431-4eec-d01b-4852a605697f"
      },
      "source": [
        "image, label = train[0]\n",
        "\n",
        "print(f'image shape: {image.shape}, label: {label}')\n",
        "plt.imshow(image.squeeze().numpy(), cmap='gray')\n",
        "plt.title('label: %s' % label)\n",
        "plt.show()"
      ],
      "execution_count": 8,
      "outputs": [
        {
          "output_type": "stream",
          "name": "stdout",
          "text": [
            "image shape: torch.Size([1, 28, 28]), label: 5\n"
          ]
        },
        {
          "output_type": "display_data",
          "data": {
            "image/png": "[encoded data removed]",
            "text/plain": [
              "<Figure size 432x288 with 1 Axes>"
            ]
          },
          "metadata": {
            "needs_background": "light"
          }
        }
      ]
    },
    {
      "cell_type": "markdown",
      "metadata": {
        "id": "0C1E5i5ZbR0N"
      },
      "source": [
        "# 미니 배치 구성하기"
      ]
    },
    {
      "cell_type": "code",
      "metadata": {
        "colab": {
          "base_uri": "https://localhost:8080/"
        },
        "id": "9S6aF3iXbVwX",
        "outputId": "221c1723-bd54-4b95-8b97-4138ef15f1a0"
      },
      "source": [
        "train_loader = torch.utils.data.DataLoader(dataset=train,\n",
        "                                           batch_size=batch_size,\n",
        "                                           shuffle=True)\n",
        "test_loader = torch.utils.data.DataLoader(dataset=test,\n",
        "                                          batch_size=batch_size,\n",
        "                                          shuffle=True)\n",
        "\n",
        "first_batch = train_loader.__iter__().__next__()\n",
        "print('{:15s} | {:<25s} | {}'.format('name', 'type', 'size'))\n",
        "print('{:15s} | {:<25s} | {}'.format('Num of Batch', '', len(train_loader)))\n",
        "print('{:15s} | {:<25s} | {}'.format('first_batch', str(type(first_batch)), len(first_batch)))\n",
        "print('{:15s} | {:<25s} | {}'.format('first_batch[0]', str(type(first_batch[0])), first_batch[0].shape))\n",
        "print('{:15s} | {:<25s} | {}'.format('first_batch[0]', str(type(first_batch[1])), first_batch[1].shape))"
      ],
      "execution_count": 9,
      "outputs": [
        {
          "output_type": "stream",
          "name": "stdout",
          "text": [
            "name            | type                      | size\n",
            "Num of Batch    |                           | 1200\n",
            "first_batch     | <class 'list'>            | 2\n",
            "first_batch[0]  | <class 'torch.Tensor'>    | torch.Size([50, 1, 28, 28])\n",
            "first_batch[0]  | <class 'torch.Tensor'>    | torch.Size([50])\n"
          ]
        }
      ]
    },
    {
      "cell_type": "markdown",
      "metadata": {
        "id": "XubuOF7s4g9y"
      },
      "source": [
        "# RNN 구조 설계하기"
      ]
    },
    {
      "cell_type": "code",
      "metadata": {
        "id": "fw0jr6Hl4oMh"
      },
      "source": [
        "class RNN(nn.Module):\n",
        "  def __init__(self):\n",
        "    super(RNN, self).__init__()\n",
        "    self.hidden_size = hidden_size\n",
        "    self.num_layers = num_layers\n",
        "    self.lstm = nn.LSTM(28, hidden_size, num_layers, batch_first=True)\n",
        "    self.fc = nn.Linear(hidden_size, 10)\n",
        "\n",
        "  def forward(self, x):\n",
        "    # hidden, cell states 초기화\n",
        "    h0 = torch.zeros(self.num_layers, x.size(0), self.hidden_size).to(device) #x.size(0): batch_size\n",
        "    c0 = torch.zeros(self.num_layers, x.size(0), self.hidden_size).to(device)\n",
        "\n",
        "    # forward propagate LSTM\n",
        "    x, _ = self.lstm(x, (h0, c0)) #out shape: (batch_size, seq_length, hidden_size)\n",
        "\n",
        "    # 마지막 step만 꺼내기\n",
        "    x = self.fc(x[:, -1, :])\n",
        "    output = F.log_softmax(x, dim=1)\n",
        "    return output"
      ],
      "execution_count": 10,
      "outputs": []
    },
    {
      "cell_type": "markdown",
      "metadata": {
        "id": "lOgw_PCw79Sg"
      },
      "source": [
        "# Optimizer 및 손실 함수 정의"
      ]
    },
    {
      "cell_type": "code",
      "metadata": {
        "id": "ttK7YxbI8dlX"
      },
      "source": [
        "model = RNN().to(device)\n",
        "optimizer = optim.Adam(model.parameters(), lr=learning_rate)\n",
        "criterion = nn.CrossEntropyLoss()"
      ],
      "execution_count": 11,
      "outputs": []
    },
    {
      "cell_type": "markdown",
      "metadata": {
        "id": "uAhFtr_R8pku"
      },
      "source": [
        "# 설계한 RNN 모형 확인하기"
      ]
    },
    {
      "cell_type": "code",
      "metadata": {
        "colab": {
          "base_uri": "https://localhost:8080/"
        },
        "id": "Y-kl73vG8s1u",
        "outputId": "d6250887-745a-4026-ea94-0c992c860fe2"
      },
      "source": [
        "print(model)"
      ],
      "execution_count": 12,
      "outputs": [
        {
          "output_type": "stream",
          "name": "stdout",
          "text": [
            "RNN(\n",
            "  (lstm): LSTM(28, 128, num_layers=2, batch_first=True)\n",
            "  (fc): Linear(in_features=128, out_features=10, bias=True)\n",
            ")\n"
          ]
        }
      ]
    },
    {
      "cell_type": "code",
      "metadata": {
        "colab": {
          "base_uri": "https://localhost:8080/",
          "height": 346
        },
        "id": "c2zR3E0iaxaT",
        "outputId": "d77b1992-9866-496b-a0ce-9211455a1ff9"
      },
      "source": [
        "summary(model, torch.zeros((1,28,28)).to(device))"
      ],
      "execution_count": 16,
      "outputs": [
        {
          "output_type": "stream",
          "name": "stdout",
          "text": [
            "====================================================\n",
            "       Kernel Shape  Output Shape  Params  Mult-Adds\n",
            "Layer                                               \n",
            "0_lstm            -  [1, 28, 128]  212992     210944\n",
            "1_fc      [128, 10]       [1, 10]    1290       1280\n",
            "----------------------------------------------------\n",
            "                      Totals\n",
            "Total params          214282\n",
            "Trainable params      214282\n",
            "Non-trainable params       0\n",
            "Mult-Adds             212224\n",
            "====================================================\n"
          ]
        },
        {
          "output_type": "execute_result",
          "data": {
            "text/html": [
              "<div>\n",
              "<style scoped>\n",
              "    .dataframe tbody tr th:only-of-type {\n",
              "        vertical-align: middle;\n",
              "    }\n",
              "\n",
              "    .dataframe tbody tr th {\n",
              "        vertical-align: top;\n",
              "    }\n",
              "\n",
              "    .dataframe thead th {\n",
              "        text-align: right;\n",
              "    }\n",
              "</style>\n",
              "<table border=\"1\" class=\"dataframe\">\n",
              "  <thead>\n",
              "    <tr style=\"text-align: right;\">\n",
              "      <th></th>\n",
              "      <th>Kernel Shape</th>\n",
              "      <th>Output Shape</th>\n",
              "      <th>Params</th>\n",
              "      <th>Mult-Adds</th>\n",
              "    </tr>\n",
              "    <tr>\n",
              "      <th>Layer</th>\n",
              "      <th></th>\n",
              "      <th></th>\n",
              "      <th></th>\n",
              "      <th></th>\n",
              "    </tr>\n",
              "  </thead>\n",
              "  <tbody>\n",
              "    <tr>\n",
              "      <th>0_lstm</th>\n",
              "      <td>-</td>\n",
              "      <td>[1, 28, 128]</td>\n",
              "      <td>212992</td>\n",
              "      <td>210944</td>\n",
              "    </tr>\n",
              "    <tr>\n",
              "      <th>1_fc</th>\n",
              "      <td>[128, 10]</td>\n",
              "      <td>[1, 10]</td>\n",
              "      <td>1290</td>\n",
              "      <td>1280</td>\n",
              "    </tr>\n",
              "  </tbody>\n",
              "</table>\n",
              "</div>"
            ],
            "text/plain": [
              "       Kernel Shape  Output Shape  Params  Mult-Adds\n",
              "Layer                                               \n",
              "0_lstm            -  [1, 28, 128]  212992     210944\n",
              "1_fc      [128, 10]       [1, 10]    1290       1280"
            ]
          },
          "metadata": {},
          "execution_count": 16
        }
      ]
    },
    {
      "cell_type": "code",
      "metadata": {
        "colab": {
          "base_uri": "https://localhost:8080/",
          "height": 650
        },
        "id": "kwydb83UbftJ",
        "outputId": "30e08245-e5a3-415d-c7a2-771a3f0b8d4e"
      },
      "source": [
        "make_dot(model(torch.zeros((1,28,28)).to(device)))"
      ],
      "execution_count": 19,
      "outputs": [
        {
          "output_type": "execute_result",
          "data": {
            "text/plain": [
              "<graphviz.dot.Digraph at 0x7f40b72ce290>"
            ],
            "image/svg+xml": "<?xml version=\"1.0\" encoding=\"UTF-8\" standalone=\"no\"?>\n<!DOCTYPE svg PUBLIC \"-//W3C//DTD SVG 1.1//EN\"\n \"http://www.w3.org/Graphics/SVG/1.1/DTD/svg11.dtd\">\n<!-- Generated by graphviz version 2.40.1 (20161225.0304)\n -->\n<!-- Title: %3 Pages: 1 -->\n<svg width=\"864pt\" height=\"472pt\"\n viewBox=\"0.00 0.00 864.00 472.36\" xmlns=\"http://www.w3.org/2000/svg\" xmlns:xlink=\"http://www.w3.org/1999/xlink\">\n<g id=\"graph0\" class=\"graph\" transform=\"scale(.9172 .9172) rotate(0) translate(4 511)\">\n<title>%3</title>\n<polygon fill=\"#ffffff\" stroke=\"transparent\" points=\"-4,4 -4,-511 938,-511 938,4 -4,4\"/>\n<!-- 139915928028944 -->\n<g id=\"node1\" class=\"node\">\n<title>139915928028944</title>\n<polygon fill=\"#caff70\" stroke=\"#000000\" points=\"503,-31 438,-31 438,0 503,0 503,-31\"/>\n<text text-anchor=\"middle\" x=\"470.5\" y=\"-7\" font-family=\"monospace\" font-size=\"10.00\" fill=\"#000000\"> (1, 10)</text>\n</g>\n<!-- 139915927806224 -->\n<g id=\"node2\" class=\"node\">\n<title>139915927806224</title>\n<polygon fill=\"#d3d3d3\" stroke=\"#000000\" points=\"536,-86 405,-86 405,-67 536,-67 536,-86\"/>\n<text text-anchor=\"middle\" x=\"470.5\" y=\"-74\" font-family=\"monospace\" font-size=\"10.00\" fill=\"#000000\">LogSoftmaxBackward0</text>\n</g>\n<!-- 139915927806224&#45;&gt;139915928028944 -->\n<g id=\"edge27\" class=\"edge\">\n<title>139915927806224&#45;&gt;139915928028944</title>\n<path fill=\"none\" stroke=\"#000000\" d=\"M470.5,-66.9688C470.5,-60.1289 470.5,-50.5621 470.5,-41.5298\"/>\n<polygon fill=\"#000000\" stroke=\"#000000\" points=\"474.0001,-41.3678 470.5,-31.3678 467.0001,-41.3678 474.0001,-41.3678\"/>\n</g>\n<!-- 139915926879120 -->\n<g id=\"node3\" class=\"node\">\n<title>139915926879120</title>\n<polygon fill=\"#d3d3d3\" stroke=\"#000000\" points=\"521,-141 420,-141 420,-122 521,-122 521,-141\"/>\n<text text-anchor=\"middle\" x=\"470.5\" y=\"-129\" font-family=\"monospace\" font-size=\"10.00\" fill=\"#000000\">AddmmBackward0</text>\n</g>\n<!-- 139915926879120&#45;&gt;139915927806224 -->\n<g id=\"edge1\" class=\"edge\">\n<title>139915926879120&#45;&gt;139915927806224</title>\n<path fill=\"none\" stroke=\"#000000\" d=\"M470.5,-121.9197C470.5,-114.9083 470.5,-105.1442 470.5,-96.4652\"/>\n<polygon fill=\"#000000\" stroke=\"#000000\" points=\"474.0001,-96.3408 470.5,-86.3408 467.0001,-96.3409 474.0001,-96.3408\"/>\n</g>\n<!-- 139915928291152 -->\n<g id=\"node4\" class=\"node\">\n<title>139915928291152</title>\n<polygon fill=\"#d3d3d3\" stroke=\"#000000\" points=\"402,-196 301,-196 301,-177 402,-177 402,-196\"/>\n<text text-anchor=\"middle\" x=\"351.5\" y=\"-184\" font-family=\"monospace\" font-size=\"10.00\" fill=\"#000000\">AccumulateGrad</text>\n</g>\n<!-- 139915928291152&#45;&gt;139915926879120 -->\n<g id=\"edge2\" class=\"edge\">\n<title>139915928291152&#45;&gt;139915926879120</title>\n<path fill=\"none\" stroke=\"#000000\" d=\"M372.2282,-176.9197C391.0535,-168.219 419.0505,-155.2792 440.3513,-145.4343\"/>\n<polygon fill=\"#000000\" stroke=\"#000000\" points=\"442.0011,-148.5276 449.61,-141.155 439.0643,-142.1734 442.0011,-148.5276\"/>\n</g>\n<!-- 139915928744592 -->\n<g id=\"node5\" class=\"node\">\n<title>139915928744592</title>\n<polygon fill=\"#add8e6\" stroke=\"#000000\" points=\"378.5,-263 324.5,-263 324.5,-232 378.5,-232 378.5,-263\"/>\n<text text-anchor=\"middle\" x=\"351.5\" y=\"-239\" font-family=\"monospace\" font-size=\"10.00\" fill=\"#000000\"> (10)</text>\n</g>\n<!-- 139915928744592&#45;&gt;139915928291152 -->\n<g id=\"edge3\" class=\"edge\">\n<title>139915928744592&#45;&gt;139915928291152</title>\n<path fill=\"none\" stroke=\"#000000\" d=\"M351.5,-231.791C351.5,-224.0249 351.5,-214.5706 351.5,-206.3129\"/>\n<polygon fill=\"#000000\" stroke=\"#000000\" points=\"355.0001,-206.0647 351.5,-196.0648 348.0001,-206.0648 355.0001,-206.0647\"/>\n</g>\n<!-- 139915926877712 -->\n<g id=\"node6\" class=\"node\">\n<title>139915926877712</title>\n<polygon fill=\"#d3d3d3\" stroke=\"#000000\" points=\"521,-196 420,-196 420,-177 521,-177 521,-196\"/>\n<text text-anchor=\"middle\" x=\"470.5\" y=\"-184\" font-family=\"monospace\" font-size=\"10.00\" fill=\"#000000\">SliceBackward0</text>\n</g>\n<!-- 139915926877712&#45;&gt;139915926879120 -->\n<g id=\"edge4\" class=\"edge\">\n<title>139915926877712&#45;&gt;139915926879120</title>\n<path fill=\"none\" stroke=\"#000000\" d=\"M470.5,-176.9197C470.5,-169.9083 470.5,-160.1442 470.5,-151.4652\"/>\n<polygon fill=\"#000000\" stroke=\"#000000\" points=\"474.0001,-151.3408 470.5,-141.3408 467.0001,-151.3409 474.0001,-151.3408\"/>\n</g>\n<!-- 139915926877264 -->\n<g id=\"node7\" class=\"node\">\n<title>139915926877264</title>\n<polygon fill=\"#d3d3d3\" stroke=\"#000000\" points=\"520,-257 413,-257 413,-238 520,-238 520,-257\"/>\n<text text-anchor=\"middle\" x=\"466.5\" y=\"-245\" font-family=\"monospace\" font-size=\"10.00\" fill=\"#000000\">SelectBackward0</text>\n</g>\n<!-- 139915926877264&#45;&gt;139915926877712 -->\n<g id=\"edge5\" class=\"edge\">\n<title>139915926877264&#45;&gt;139915926877712</title>\n<path fill=\"none\" stroke=\"#000000\" d=\"M467.125,-237.9688C467.6795,-229.5131 468.5072,-216.8901 469.2042,-206.2615\"/>\n<polygon fill=\"#000000\" stroke=\"#000000\" points=\"472.7043,-206.3732 469.8662,-196.1656 465.7193,-205.9152 472.7043,-206.3732\"/>\n</g>\n<!-- 139915928546384 -->\n<g id=\"node8\" class=\"node\">\n<title>139915928546384</title>\n<polygon fill=\"#d3d3d3\" stroke=\"#000000\" points=\"517,-324 416,-324 416,-305 517,-305 517,-324\"/>\n<text text-anchor=\"middle\" x=\"466.5\" y=\"-312\" font-family=\"monospace\" font-size=\"10.00\" fill=\"#000000\">SliceBackward0</text>\n</g>\n<!-- 139915928546384&#45;&gt;139915926877264 -->\n<g id=\"edge6\" class=\"edge\">\n<title>139915928546384&#45;&gt;139915926877264</title>\n<path fill=\"none\" stroke=\"#000000\" d=\"M466.5,-304.9005C466.5,-295.149 466.5,-279.7597 466.5,-267.3695\"/>\n<polygon fill=\"#000000\" stroke=\"#000000\" points=\"470.0001,-267.0816 466.5,-257.0817 463.0001,-267.0817 470.0001,-267.0816\"/>\n</g>\n<!-- 139915928547152 -->\n<g id=\"node9\" class=\"node\">\n<title>139915928547152</title>\n<polygon fill=\"#d3d3d3\" stroke=\"#000000\" points=\"526,-385 407,-385 407,-366 526,-366 526,-385\"/>\n<text text-anchor=\"middle\" x=\"466.5\" y=\"-373\" font-family=\"monospace\" font-size=\"10.00\" fill=\"#000000\">CudnnRnnBackward0</text>\n</g>\n<!-- 139915928547152&#45;&gt;139915928546384 -->\n<g id=\"edge7\" class=\"edge\">\n<title>139915928547152&#45;&gt;139915928546384</title>\n<path fill=\"none\" stroke=\"#000000\" d=\"M466.5,-365.9688C466.5,-357.5131 466.5,-344.8901 466.5,-334.2615\"/>\n<polygon fill=\"#000000\" stroke=\"#000000\" points=\"470.0001,-334.1656 466.5,-324.1656 463.0001,-334.1657 470.0001,-334.1656\"/>\n</g>\n<!-- 139915928546640 -->\n<g id=\"node10\" class=\"node\">\n<title>139915928546640</title>\n<polygon fill=\"#d3d3d3\" stroke=\"#000000\" points=\"101,-440 0,-440 0,-421 101,-421 101,-440\"/>\n<text text-anchor=\"middle\" x=\"50.5\" y=\"-428\" font-family=\"monospace\" font-size=\"10.00\" fill=\"#000000\">AccumulateGrad</text>\n</g>\n<!-- 139915928546640&#45;&gt;139915928547152 -->\n<g id=\"edge8\" class=\"edge\">\n<title>139915928546640&#45;&gt;139915928547152</title>\n<path fill=\"none\" stroke=\"#000000\" d=\"M101.0138,-422.2544C103.8834,-421.8209 106.7274,-421.3998 109.5,-421 208.9649,-406.6577 324.367,-392.3769 396.4178,-383.7417\"/>\n<polygon fill=\"#000000\" stroke=\"#000000\" points=\"397.2128,-387.1717 406.7266,-382.5093 396.3818,-380.2212 397.2128,-387.1717\"/>\n</g>\n<!-- 139915934050160 -->\n<g id=\"node11\" class=\"node\">\n<title>139915934050160</title>\n<polygon fill=\"#add8e6\" stroke=\"#000000\" points=\"89,-507 12,-507 12,-476 89,-476 89,-507\"/>\n<text text-anchor=\"middle\" x=\"50.5\" y=\"-483\" font-family=\"monospace\" font-size=\"10.00\" fill=\"#000000\"> (512, 28)</text>\n</g>\n<!-- 139915934050160&#45;&gt;139915928546640 -->\n<g id=\"edge9\" class=\"edge\">\n<title>139915934050160&#45;&gt;139915928546640</title>\n<path fill=\"none\" stroke=\"#000000\" d=\"M50.5,-475.791C50.5,-468.0249 50.5,-458.5706 50.5,-450.3129\"/>\n<polygon fill=\"#000000\" stroke=\"#000000\" points=\"54.0001,-450.0647 50.5,-440.0648 47.0001,-450.0648 54.0001,-450.0647\"/>\n</g>\n<!-- 139915928546448 -->\n<g id=\"node12\" class=\"node\">\n<title>139915928546448</title>\n<polygon fill=\"#d3d3d3\" stroke=\"#000000\" points=\"220,-440 119,-440 119,-421 220,-421 220,-440\"/>\n<text text-anchor=\"middle\" x=\"169.5\" y=\"-428\" font-family=\"monospace\" font-size=\"10.00\" fill=\"#000000\">AccumulateGrad</text>\n</g>\n<!-- 139915928546448&#45;&gt;139915928547152 -->\n<g id=\"edge10\" class=\"edge\">\n<title>139915928546448&#45;&gt;139915928547152</title>\n<path fill=\"none\" stroke=\"#000000\" d=\"M220.2187,-421.1077C271.3767,-411.6339 350.4054,-396.999 405.0809,-386.8739\"/>\n<polygon fill=\"#000000\" stroke=\"#000000\" points=\"405.799,-390.3005 414.9944,-385.0381 404.5243,-383.4176 405.799,-390.3005\"/>\n</g>\n<!-- 139915934130352 -->\n<g id=\"node13\" class=\"node\">\n<title>139915934130352</title>\n<polygon fill=\"#add8e6\" stroke=\"#000000\" points=\"211,-507 128,-507 128,-476 211,-476 211,-507\"/>\n<text text-anchor=\"middle\" x=\"169.5\" y=\"-483\" font-family=\"monospace\" font-size=\"10.00\" fill=\"#000000\"> (512, 128)</text>\n</g>\n<!-- 139915934130352&#45;&gt;139915928546448 -->\n<g id=\"edge11\" class=\"edge\">\n<title>139915934130352&#45;&gt;139915928546448</title>\n<path fill=\"none\" stroke=\"#000000\" d=\"M169.5,-475.791C169.5,-468.0249 169.5,-458.5706 169.5,-450.3129\"/>\n<polygon fill=\"#000000\" stroke=\"#000000\" points=\"173.0001,-450.0647 169.5,-440.0648 166.0001,-450.0648 173.0001,-450.0647\"/>\n</g>\n<!-- 139915928544784 -->\n<g id=\"node14\" class=\"node\">\n<title>139915928544784</title>\n<polygon fill=\"#d3d3d3\" stroke=\"#000000\" points=\"339,-440 238,-440 238,-421 339,-421 339,-440\"/>\n<text text-anchor=\"middle\" x=\"288.5\" y=\"-428\" font-family=\"monospace\" font-size=\"10.00\" fill=\"#000000\">AccumulateGrad</text>\n</g>\n<!-- 139915928544784&#45;&gt;139915928547152 -->\n<g id=\"edge12\" class=\"edge\">\n<title>139915928544784&#45;&gt;139915928547152</title>\n<path fill=\"none\" stroke=\"#000000\" d=\"M319.5052,-420.9197C349.0228,-411.7991 393.6151,-398.0206 425.9431,-388.0316\"/>\n<polygon fill=\"#000000\" stroke=\"#000000\" points=\"427.0309,-391.3588 435.552,-385.0626 424.9644,-384.6708 427.0309,-391.3588\"/>\n</g>\n<!-- 139915934132464 -->\n<g id=\"node15\" class=\"node\">\n<title>139915934132464</title>\n<polygon fill=\"#add8e6\" stroke=\"#000000\" points=\"315.5,-507 261.5,-507 261.5,-476 315.5,-476 315.5,-507\"/>\n<text text-anchor=\"middle\" x=\"288.5\" y=\"-483\" font-family=\"monospace\" font-size=\"10.00\" fill=\"#000000\"> (512)</text>\n</g>\n<!-- 139915934132464&#45;&gt;139915928544784 -->\n<g id=\"edge13\" class=\"edge\">\n<title>139915934132464&#45;&gt;139915928544784</title>\n<path fill=\"none\" stroke=\"#000000\" d=\"M288.5,-475.791C288.5,-468.0249 288.5,-458.5706 288.5,-450.3129\"/>\n<polygon fill=\"#000000\" stroke=\"#000000\" points=\"292.0001,-450.0647 288.5,-440.0648 285.0001,-450.0648 292.0001,-450.0647\"/>\n</g>\n<!-- 139915928544912 -->\n<g id=\"node16\" class=\"node\">\n<title>139915928544912</title>\n<polygon fill=\"#d3d3d3\" stroke=\"#000000\" points=\"458,-440 357,-440 357,-421 458,-421 458,-440\"/>\n<text text-anchor=\"middle\" x=\"407.5\" y=\"-428\" font-family=\"monospace\" font-size=\"10.00\" fill=\"#000000\">AccumulateGrad</text>\n</g>\n<!-- 139915928544912&#45;&gt;139915928547152 -->\n<g id=\"edge14\" class=\"edge\">\n<title>139915928544912&#45;&gt;139915928547152</title>\n<path fill=\"none\" stroke=\"#000000\" d=\"M417.777,-420.9197C426.2176,-413.0514 438.377,-401.7164 448.4369,-392.3385\"/>\n<polygon fill=\"#000000\" stroke=\"#000000\" points=\"451.0154,-394.7198 455.9435,-385.3408 446.2422,-389.5995 451.0154,-394.7198\"/>\n</g>\n<!-- 139915934130544 -->\n<g id=\"node17\" class=\"node\">\n<title>139915934130544</title>\n<polygon fill=\"#add8e6\" stroke=\"#000000\" points=\"434.5,-507 380.5,-507 380.5,-476 434.5,-476 434.5,-507\"/>\n<text text-anchor=\"middle\" x=\"407.5\" y=\"-483\" font-family=\"monospace\" font-size=\"10.00\" fill=\"#000000\"> (512)</text>\n</g>\n<!-- 139915934130544&#45;&gt;139915928544912 -->\n<g id=\"edge15\" class=\"edge\">\n<title>139915934130544&#45;&gt;139915928544912</title>\n<path fill=\"none\" stroke=\"#000000\" d=\"M407.5,-475.791C407.5,-468.0249 407.5,-458.5706 407.5,-450.3129\"/>\n<polygon fill=\"#000000\" stroke=\"#000000\" points=\"411.0001,-450.0647 407.5,-440.0648 404.0001,-450.0648 411.0001,-450.0647\"/>\n</g>\n<!-- 139915928545936 -->\n<g id=\"node18\" class=\"node\">\n<title>139915928545936</title>\n<polygon fill=\"#d3d3d3\" stroke=\"#000000\" points=\"577,-440 476,-440 476,-421 577,-421 577,-440\"/>\n<text text-anchor=\"middle\" x=\"526.5\" y=\"-428\" font-family=\"monospace\" font-size=\"10.00\" fill=\"#000000\">AccumulateGrad</text>\n</g>\n<!-- 139915928545936&#45;&gt;139915928547152 -->\n<g id=\"edge16\" class=\"edge\">\n<title>139915928545936&#45;&gt;139915928547152</title>\n<path fill=\"none\" stroke=\"#000000\" d=\"M516.0488,-420.9197C507.4651,-413.0514 495.0997,-401.7164 484.8693,-392.3385\"/>\n<polygon fill=\"#000000\" stroke=\"#000000\" points=\"486.9721,-389.5181 477.2355,-385.3408 482.242,-394.6782 486.9721,-389.5181\"/>\n</g>\n<!-- 139915934130256 -->\n<g id=\"node19\" class=\"node\">\n<title>139915934130256</title>\n<polygon fill=\"#add8e6\" stroke=\"#000000\" points=\"568,-507 485,-507 485,-476 568,-476 568,-507\"/>\n<text text-anchor=\"middle\" x=\"526.5\" y=\"-483\" font-family=\"monospace\" font-size=\"10.00\" fill=\"#000000\"> (512, 128)</text>\n</g>\n<!-- 139915934130256&#45;&gt;139915928545936 -->\n<g id=\"edge17\" class=\"edge\">\n<title>139915934130256&#45;&gt;139915928545936</title>\n<path fill=\"none\" stroke=\"#000000\" d=\"M526.5,-475.791C526.5,-468.0249 526.5,-458.5706 526.5,-450.3129\"/>\n<polygon fill=\"#000000\" stroke=\"#000000\" points=\"530.0001,-450.0647 526.5,-440.0648 523.0001,-450.0648 530.0001,-450.0647\"/>\n</g>\n<!-- 139915928545808 -->\n<g id=\"node20\" class=\"node\">\n<title>139915928545808</title>\n<polygon fill=\"#d3d3d3\" stroke=\"#000000\" points=\"696,-440 595,-440 595,-421 696,-421 696,-440\"/>\n<text text-anchor=\"middle\" x=\"645.5\" y=\"-428\" font-family=\"monospace\" font-size=\"10.00\" fill=\"#000000\">AccumulateGrad</text>\n</g>\n<!-- 139915928545808&#45;&gt;139915928547152 -->\n<g id=\"edge18\" class=\"edge\">\n<title>139915928545808&#45;&gt;139915928547152</title>\n<path fill=\"none\" stroke=\"#000000\" d=\"M614.3206,-420.9197C584.6372,-411.7991 539.7944,-398.0206 507.2847,-388.0316\"/>\n<polygon fill=\"#000000\" stroke=\"#000000\" points=\"508.2089,-384.6541 497.6219,-385.0626 506.1528,-391.3454 508.2089,-384.6541\"/>\n</g>\n<!-- 139915928731472 -->\n<g id=\"node21\" class=\"node\">\n<title>139915928731472</title>\n<polygon fill=\"#add8e6\" stroke=\"#000000\" points=\"687,-507 604,-507 604,-476 687,-476 687,-507\"/>\n<text text-anchor=\"middle\" x=\"645.5\" y=\"-483\" font-family=\"monospace\" font-size=\"10.00\" fill=\"#000000\"> (512, 128)</text>\n</g>\n<!-- 139915928731472&#45;&gt;139915928545808 -->\n<g id=\"edge19\" class=\"edge\">\n<title>139915928731472&#45;&gt;139915928545808</title>\n<path fill=\"none\" stroke=\"#000000\" d=\"M645.5,-475.791C645.5,-468.0249 645.5,-458.5706 645.5,-450.3129\"/>\n<polygon fill=\"#000000\" stroke=\"#000000\" points=\"649.0001,-450.0647 645.5,-440.0648 642.0001,-450.0648 649.0001,-450.0647\"/>\n</g>\n<!-- 139915928545680 -->\n<g id=\"node22\" class=\"node\">\n<title>139915928545680</title>\n<polygon fill=\"#d3d3d3\" stroke=\"#000000\" points=\"815,-440 714,-440 714,-421 815,-421 815,-440\"/>\n<text text-anchor=\"middle\" x=\"764.5\" y=\"-428\" font-family=\"monospace\" font-size=\"10.00\" fill=\"#000000\">AccumulateGrad</text>\n</g>\n<!-- 139915928545680&#45;&gt;139915928547152 -->\n<g id=\"edge20\" class=\"edge\">\n<title>139915928545680&#45;&gt;139915928547152</title>\n<path fill=\"none\" stroke=\"#000000\" d=\"M713.9484,-421.17C662.6734,-411.7065 583.2442,-397.0468 528.2694,-386.9004\"/>\n<polygon fill=\"#000000\" stroke=\"#000000\" points=\"528.7704,-383.4338 518.3012,-385.0606 527.4999,-390.3176 528.7704,-383.4338\"/>\n</g>\n<!-- 139915928744688 -->\n<g id=\"node23\" class=\"node\">\n<title>139915928744688</title>\n<polygon fill=\"#add8e6\" stroke=\"#000000\" points=\"791.5,-507 737.5,-507 737.5,-476 791.5,-476 791.5,-507\"/>\n<text text-anchor=\"middle\" x=\"764.5\" y=\"-483\" font-family=\"monospace\" font-size=\"10.00\" fill=\"#000000\"> (512)</text>\n</g>\n<!-- 139915928744688&#45;&gt;139915928545680 -->\n<g id=\"edge21\" class=\"edge\">\n<title>139915928744688&#45;&gt;139915928545680</title>\n<path fill=\"none\" stroke=\"#000000\" d=\"M764.5,-475.791C764.5,-468.0249 764.5,-458.5706 764.5,-450.3129\"/>\n<polygon fill=\"#000000\" stroke=\"#000000\" points=\"768.0001,-450.0647 764.5,-440.0648 761.0001,-450.0648 768.0001,-450.0647\"/>\n</g>\n<!-- 139915928547216 -->\n<g id=\"node24\" class=\"node\">\n<title>139915928547216</title>\n<polygon fill=\"#d3d3d3\" stroke=\"#000000\" points=\"934,-440 833,-440 833,-421 934,-421 934,-440\"/>\n<text text-anchor=\"middle\" x=\"883.5\" y=\"-428\" font-family=\"monospace\" font-size=\"10.00\" fill=\"#000000\">AccumulateGrad</text>\n</g>\n<!-- 139915928547216&#45;&gt;139915928547152 -->\n<g id=\"edge22\" class=\"edge\">\n<title>139915928547216&#45;&gt;139915928547152</title>\n<path fill=\"none\" stroke=\"#000000\" d=\"M832.9863,-422.2533C830.1167,-421.8201 827.2726,-421.3993 824.5,-421 724.6107,-406.6144 608.6897,-392.3182 536.4585,-383.6943\"/>\n<polygon fill=\"#000000\" stroke=\"#000000\" points=\"536.4693,-380.1709 526.1255,-382.4637 535.6414,-387.1218 536.4693,-380.1709\"/>\n</g>\n<!-- 139915928744496 -->\n<g id=\"node25\" class=\"node\">\n<title>139915928744496</title>\n<polygon fill=\"#add8e6\" stroke=\"#000000\" points=\"910.5,-507 856.5,-507 856.5,-476 910.5,-476 910.5,-507\"/>\n<text text-anchor=\"middle\" x=\"883.5\" y=\"-483\" font-family=\"monospace\" font-size=\"10.00\" fill=\"#000000\"> (512)</text>\n</g>\n<!-- 139915928744496&#45;&gt;139915928547216 -->\n<g id=\"edge23\" class=\"edge\">\n<title>139915928744496&#45;&gt;139915928547216</title>\n<path fill=\"none\" stroke=\"#000000\" d=\"M883.5,-475.791C883.5,-468.0249 883.5,-458.5706 883.5,-450.3129\"/>\n<polygon fill=\"#000000\" stroke=\"#000000\" points=\"887.0001,-450.0647 883.5,-440.0648 880.0001,-450.0648 887.0001,-450.0647\"/>\n</g>\n<!-- 139915926879632 -->\n<g id=\"node26\" class=\"node\">\n<title>139915926879632</title>\n<polygon fill=\"#d3d3d3\" stroke=\"#000000\" points=\"623,-196 546,-196 546,-177 623,-177 623,-196\"/>\n<text text-anchor=\"middle\" x=\"584.5\" y=\"-184\" font-family=\"monospace\" font-size=\"10.00\" fill=\"#000000\">TBackward0</text>\n</g>\n<!-- 139915926879632&#45;&gt;139915926879120 -->\n<g id=\"edge24\" class=\"edge\">\n<title>139915926879632&#45;&gt;139915926879120</title>\n<path fill=\"none\" stroke=\"#000000\" d=\"M564.6427,-176.9197C546.6896,-168.2581 520.0292,-155.3957 499.6581,-145.5675\"/>\n<polygon fill=\"#000000\" stroke=\"#000000\" points=\"501.0397,-142.3481 490.5122,-141.155 497.998,-148.6527 501.0397,-142.3481\"/>\n</g>\n<!-- 139915928545872 -->\n<g id=\"node27\" class=\"node\">\n<title>139915928545872</title>\n<polygon fill=\"#d3d3d3\" stroke=\"#000000\" points=\"639,-257 538,-257 538,-238 639,-238 639,-257\"/>\n<text text-anchor=\"middle\" x=\"588.5\" y=\"-245\" font-family=\"monospace\" font-size=\"10.00\" fill=\"#000000\">AccumulateGrad</text>\n</g>\n<!-- 139915928545872&#45;&gt;139915926879632 -->\n<g id=\"edge25\" class=\"edge\">\n<title>139915928545872&#45;&gt;139915926879632</title>\n<path fill=\"none\" stroke=\"#000000\" d=\"M587.875,-237.9688C587.3205,-229.5131 586.4928,-216.8901 585.7958,-206.2615\"/>\n<polygon fill=\"#000000\" stroke=\"#000000\" points=\"589.2807,-205.9152 585.1338,-196.1656 582.2957,-206.3732 589.2807,-205.9152\"/>\n</g>\n<!-- 139915928745072 -->\n<g id=\"node28\" class=\"node\">\n<title>139915928745072</title>\n<polygon fill=\"#add8e6\" stroke=\"#000000\" points=\"627,-330 550,-330 550,-299 627,-299 627,-330\"/>\n<text text-anchor=\"middle\" x=\"588.5\" y=\"-306\" font-family=\"monospace\" font-size=\"10.00\" fill=\"#000000\"> (10, 128)</text>\n</g>\n<!-- 139915928745072&#45;&gt;139915928545872 -->\n<g id=\"edge26\" class=\"edge\">\n<title>139915928745072&#45;&gt;139915928545872</title>\n<path fill=\"none\" stroke=\"#000000\" d=\"M588.5,-298.9604C588.5,-289.6356 588.5,-277.6748 588.5,-267.6317\"/>\n<polygon fill=\"#000000\" stroke=\"#000000\" points=\"592.0001,-267.35 588.5,-257.3501 585.0001,-267.3501 592.0001,-267.35\"/>\n</g>\n</g>\n</svg>\n"
          },
          "metadata": {},
          "execution_count": 19
        }
      ]
    },
    {
      "cell_type": "markdown",
      "metadata": {
        "id": "C6Lku6zW8uMo"
      },
      "source": [
        "# 모델 학습"
      ]
    },
    {
      "cell_type": "code",
      "metadata": {
        "colab": {
          "base_uri": "https://localhost:8080/"
        },
        "id": "r3DD1mSN8yl9",
        "outputId": "3a916808-8c98-4b58-e27f-cd4ada9bda99"
      },
      "source": [
        "model.train()\n",
        "i = 0\n",
        "for epoch in range(epoch_num):\n",
        "  for data, target in train_loader:\n",
        "    data = data.reshape(-1, 28, 28).to(device)\n",
        "    target = target.to(device)\n",
        "    optimizer.zero_grad()\n",
        "    output = model(data)\n",
        "    loss = criterion(output, target)\n",
        "    loss.backward()\n",
        "    optimizer.step()\n",
        "    if i % 1000 == 0:\n",
        "      print('Train step: {}\\tLoss: {:.3f}'.format(i, loss.item()))\n",
        "    i += 1"
      ],
      "execution_count": null,
      "outputs": [
        {
          "output_type": "stream",
          "name": "stdout",
          "text": [
            "Train step: 0\tLoss: 2.304\n",
            "Train step: 1000\tLoss: 0.289\n",
            "Train step: 2000\tLoss: 0.174\n",
            "Train step: 3000\tLoss: 0.216\n",
            "Train step: 4000\tLoss: 0.071\n",
            "Train step: 5000\tLoss: 0.066\n",
            "Train step: 6000\tLoss: 0.027\n",
            "Train step: 7000\tLoss: 0.122\n",
            "Train step: 8000\tLoss: 0.047\n",
            "Train step: 9000\tLoss: 0.162\n",
            "Train step: 10000\tLoss: 0.070\n",
            "Train step: 11000\tLoss: 0.177\n",
            "Train step: 12000\tLoss: 0.014\n",
            "Train step: 13000\tLoss: 0.100\n",
            "Train step: 14000\tLoss: 0.072\n",
            "Train step: 15000\tLoss: 0.060\n",
            "Train step: 16000\tLoss: 0.058\n",
            "Train step: 17000\tLoss: 0.064\n",
            "Train step: 18000\tLoss: 0.079\n",
            "Train step: 19000\tLoss: 0.024\n",
            "Train step: 20000\tLoss: 0.061\n",
            "Train step: 21000\tLoss: 0.051\n",
            "Train step: 22000\tLoss: 0.006\n",
            "Train step: 23000\tLoss: 0.007\n"
          ]
        }
      ]
    },
    {
      "cell_type": "markdown",
      "metadata": {
        "id": "ujwH6Uax_Kyx"
      },
      "source": [
        "# 모델 평가"
      ]
    },
    {
      "cell_type": "code",
      "metadata": {
        "colab": {
          "base_uri": "https://localhost:8080/"
        },
        "id": "60v3kf-J_Mlv",
        "outputId": "a0a5312b-f284-4443-958b-f158d6cc6e91"
      },
      "source": [
        "model.eval()\n",
        "correct = 0\n",
        "for data, target in test_loader:\n",
        "  data = data.to(device)\n",
        "  target = target.to(device)\n",
        "  output = output.to(device)\n",
        "  prediction = output.data.max(1)[1]\n",
        "  correct += prediction.eq(target.data).sum()\n",
        "\n",
        "print('Test set: Accuracy: {:.2f}%'.format(100 * correct / len(test_loader.dataset)))"
      ],
      "execution_count": null,
      "outputs": [
        {
          "output_type": "stream",
          "name": "stdout",
          "text": [
            "Test set: Accuracy: 10.01%\n"
          ]
        }
      ]
    },
    {
      "cell_type": "code",
      "metadata": {
        "id": "GSaohOfdAR5Z"
      },
      "source": [
        ""
      ],
      "execution_count": null,
      "outputs": []
    }
  ]
}