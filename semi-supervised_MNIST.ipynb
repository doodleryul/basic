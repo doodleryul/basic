{
 "cells": [
  {
   "cell_type": "code",
   "execution_count": 2,
   "metadata": {},
   "outputs": [
    {
     "name": "stdout",
     "output_type": "stream",
     "text": [
      "Extracting /Users/urim/DATA/MNIST_data/train-images-idx3-ubyte.gz\n",
      "Extracting /Users/urim/DATA/MNIST_data/train-labels-idx1-ubyte.gz\n",
      "Extracting /Users/urim/DATA/MNIST_data/t10k-images-idx3-ubyte.gz\n",
      "Extracting /Users/urim/DATA/MNIST_data/t10k-labels-idx1-ubyte.gz\n"
     ]
    }
   ],
   "source": [
    "%matplotlib inline\n",
    "\n",
    "import tensorflow as tf\n",
    "import numpy as np\n",
    "from tensorflow.examples.tutorials.mnist import input_data\n",
    "dataSets = input_data.read_data_sets(\"/Users/urim/DATA/MNIST_data/\", one_hot=True)"
   ]
  },
  {
   "cell_type": "code",
   "execution_count": 2,
   "metadata": {},
   "outputs": [],
   "source": [
    "batch_size = 64\n",
    "lr_init_dec = 0.001\n",
    "lr_init_pred = 0.01\n",
    "decay_steps = 1000\n",
    "decay_rate = 0.9\n",
    "train_steps = 10000\n",
    "dec_train_steps = int(train_steps*0.8)\n",
    "printBy = int(train_steps/10)\n"
   ]
  },
  {
   "cell_type": "code",
   "execution_count": 3,
   "metadata": {},
   "outputs": [],
   "source": [
    "inputs = tf.placeholder(tf.float32, shape=[batch_size, 28 * 28 * 1])\n",
    "labels = tf.placeholder(tf.int32, shape=[batch_size, 10])\n",
    "global_step_dec = tf.Variable(0, name='global_step_dec', trainable=False, dtype=tf.int32)\n",
    "lr_dec = tf.train.exponential_decay(lr_init_dec, global_step_dec, decay_steps, decay_rate, staircase=True)\n",
    "global_step_pred = tf.Variable(0, name='global_step_pred', trainable=False, dtype=tf.int32)\n",
    "lr_pred = tf.train.exponential_decay(lr_init_pred, global_step_pred, decay_steps, decay_rate, staircase=True)"
   ]
  },
  {
   "cell_type": "code",
   "execution_count": 4,
   "metadata": {},
   "outputs": [],
   "source": [
    "def linear(input_, output_size, scope=None, bias_start=0.0, wd=None, with_w=False):\n",
    "    shape = input_.get_shape().as_list()\n",
    "    stddev=1.0/np.sqrt(output_size)\n",
    "    with tf.variable_scope(scope or \"Linear\"):\n",
    "        matrix = tf.get_variable(\"Matrix\", [shape[1], output_size], tf.float32, tf.random_normal_initializer(stddev=stddev))\n",
    "        #matrix = tf.Variable(tf.truncated_normal([shape[1], output_size], stddev=1.0/np.sqrt(output_size)), name=\"Matrix\")\n",
    "        if wd is not None:\n",
    "            _weight_decay = tf.multiply(tf.nn.l2_loss(matrix), wd, name='weigth_loss')\n",
    "            tf.add_to_collection('loss', _weight_decay)\n",
    "        bias = tf.get_variable(\"bias\", [output_size], initializer=tf.constant_initializer(bias_start))\n",
    "        if with_w: return tf.matmul(input_, matrix) + bias, matrix, bias\n",
    "        else: return tf.matmul(input_, matrix) + bias\n",
    "        \n",
    "def Accuracy(pred, true, round=False):\n",
    "    if round: is_correct = tf.equal(tf.round(pred), true)\n",
    "    else: is_correct = tf.equal(tf.argmax(pred,1), tf.argmax(true,1))\n",
    "    return tf.reduce_mean(tf.cast(is_correct, tf.float32))\n",
    "\n",
    "with tf.variable_scope('ENC') as scope:\n",
    "    enc1 = tf.nn.sigmoid(linear(inputs, 128, 'enc1'))\n",
    "    enc2 = tf.nn.sigmoid(linear(enc1, 64, 'enc2'))\n",
    "    \n",
    "with tf.variable_scope('DEC') as scope:\n",
    "    dec1 = tf.nn.sigmoid(linear(enc2, 128, 'dec1'))\n",
    "    dec_logits = linear(dec1, 28*28*1, 'dec')\n",
    "    \n",
    "with tf.variable_scope('PRED') as scope:\n",
    "    enc2_stop_gd = tf.stop_gradient(enc2)\n",
    "    pred_logits = linear(enc2_stop_gd, 10, 'pred')\n",
    "    "
   ]
  },
  {
   "cell_type": "code",
   "execution_count": 5,
   "metadata": {},
   "outputs": [
    {
     "name": "stdout",
     "output_type": "stream",
     "text": [
      "WARNING:tensorflow:From <ipython-input-5-0846a66604bb>:6: softmax_cross_entropy_with_logits (from tensorflow.python.ops.nn_ops) is deprecated and will be removed in a future version.\n",
      "Instructions for updating:\n",
      "\n",
      "Future major versions of TensorFlow will allow gradients to flow\n",
      "into the labels input on backprop by default.\n",
      "\n",
      "See tf.nn.softmax_cross_entropy_with_logits_v2.\n",
      "\n"
     ]
    }
   ],
   "source": [
    "with tf.name_scope('DEC_LOSS') as scope:\n",
    "    dec_loss_batch = tf.nn.sigmoid_cross_entropy_with_logits(logits=dec_logits, labels=inputs)\n",
    "    dec_loss = tf.reduce_mean(dec_loss_batch)\n",
    "    \n",
    "with tf.name_scope('PRED_LOSS') as scope:\n",
    "    pred_loss_batch = tf.nn.softmax_cross_entropy_with_logits(logits=pred_logits, labels=labels)\n",
    "    pred_loss = tf.reduce_mean(pred_loss_batch)"
   ]
  },
  {
   "cell_type": "code",
   "execution_count": 6,
   "metadata": {},
   "outputs": [],
   "source": [
    "dec_train_op = tf.train.AdamOptimizer(lr_dec).minimize(dec_loss, global_step=global_step_dec)\n",
    "pred_train_op = tf.train.AdamOptimizer(lr_pred).minimize(pred_loss, global_step=global_step_pred)\n",
    "accuracy = Accuracy(tf.nn.softmax(pred_logits), labels)"
   ]
  },
  {
   "cell_type": "code",
   "execution_count": 10,
   "metadata": {
    "collapsed": true
   },
   "outputs": [
    {
     "name": "stderr",
     "output_type": "stream",
     "text": [
      " 11%|█         | 1062/10000 [00:01<00:16, 539.11it/s]"
     ]
    },
    {
     "name": "stdout",
     "output_type": "stream",
     "text": [
      "DEC-1000: LR(0.000900), DEC_loss(0.2325||0.2321)\n",
      "PRED-0: LR(0.010000), PRED_loss(2.6342||2.4429), ACC(0.156||0.219)\n"
     ]
    },
    {
     "name": "stderr",
     "output_type": "stream",
     "text": [
      " 21%|██        | 2077/10000 [00:03<00:14, 562.31it/s]"
     ]
    },
    {
     "name": "stdout",
     "output_type": "stream",
     "text": [
      "DEC-2000: LR(0.000810), DEC_loss(0.1803||0.1747)\n",
      "PRED-0: LR(0.010000), PRED_loss(2.4920||2.8509), ACC(0.234||0.109)\n"
     ]
    },
    {
     "name": "stderr",
     "output_type": "stream",
     "text": [
      " 31%|███       | 3073/10000 [00:05<00:12, 566.59it/s]"
     ]
    },
    {
     "name": "stdout",
     "output_type": "stream",
     "text": [
      "DEC-3000: LR(0.000729), DEC_loss(0.1550||0.1553)\n",
      "PRED-0: LR(0.010000), PRED_loss(3.1012||2.7853), ACC(0.109||0.109)\n"
     ]
    },
    {
     "name": "stderr",
     "output_type": "stream",
     "text": [
      " 40%|████      | 4011/10000 [00:07<00:10, 568.50it/s]"
     ]
    },
    {
     "name": "stdout",
     "output_type": "stream",
     "text": [
      "DEC-4000: LR(0.000656), DEC_loss(0.1493||0.1480)\n",
      "PRED-0: LR(0.010000), PRED_loss(2.9330||2.5949), ACC(0.094||0.188)\n"
     ]
    },
    {
     "name": "stderr",
     "output_type": "stream",
     "text": [
      " 51%|█████     | 5096/10000 [00:09<00:08, 560.32it/s]"
     ]
    },
    {
     "name": "stdout",
     "output_type": "stream",
     "text": [
      "DEC-5000: LR(0.000590), DEC_loss(0.1299||0.1311)\n",
      "PRED-0: LR(0.010000), PRED_loss(2.9085||2.6569), ACC(0.047||0.156)\n"
     ]
    },
    {
     "name": "stderr",
     "output_type": "stream",
     "text": [
      " 61%|██████    | 6104/10000 [00:10<00:06, 564.34it/s]"
     ]
    },
    {
     "name": "stdout",
     "output_type": "stream",
     "text": [
      "DEC-6000: LR(0.000531), DEC_loss(0.1320||0.1236)\n",
      "PRED-0: LR(0.010000), PRED_loss(2.7153||2.8163), ACC(0.125||0.078)\n"
     ]
    },
    {
     "name": "stderr",
     "output_type": "stream",
     "text": [
      " 71%|███████   | 7086/10000 [00:12<00:05, 569.54it/s]"
     ]
    },
    {
     "name": "stdout",
     "output_type": "stream",
     "text": [
      "DEC-7000: LR(0.000478), DEC_loss(0.1220||0.1206)\n",
      "PRED-0: LR(0.010000), PRED_loss(2.6284||2.6005), ACC(0.094||0.125)\n"
     ]
    },
    {
     "name": "stderr",
     "output_type": "stream",
     "text": [
      " 81%|████████  | 8082/10000 [00:14<00:03, 573.50it/s]"
     ]
    },
    {
     "name": "stdout",
     "output_type": "stream",
     "text": [
      "DEC-8000: LR(0.000430), DEC_loss(0.1292||0.1191)\n",
      "PRED-0: LR(0.010000), PRED_loss(3.0177||2.6909), ACC(0.094||0.156)\n",
      "\n",
      "\n",
      "[!] Supervised Learning Starts!!\n",
      "\n",
      "\n"
     ]
    },
    {
     "name": "stderr",
     "output_type": "stream",
     "text": [
      " 91%|█████████ | 9114/10000 [00:15<00:01, 592.08it/s]"
     ]
    },
    {
     "name": "stdout",
     "output_type": "stream",
     "text": [
      "DEC-8000: LR(0.000430), DEC_loss(0.1239||0.1128)\n",
      "PRED-1000: LR(0.009000), PRED_loss(0.6673||0.3595), ACC(0.797||0.875)\n"
     ]
    },
    {
     "name": "stderr",
     "output_type": "stream",
     "text": [
      "100%|██████████| 10000/10000 [00:16<00:00, 605.52it/s]"
     ]
    },
    {
     "name": "stdout",
     "output_type": "stream",
     "text": [
      "DEC-8000: LR(0.000430), DEC_loss(0.1265||0.1068)\n",
      "PRED-2000: LR(0.008100), PRED_loss(0.4305||0.2494), ACC(0.875||0.922)\n",
      "\n",
      "\n",
      "[TEST]\n",
      "DEC_loss(0.1216)\n",
      "PRED_loss(0.4634), ACC(0.844)\n"
     ]
    },
    {
     "name": "stderr",
     "output_type": "stream",
     "text": [
      "\n"
     ]
    }
   ],
   "source": [
    "from tqdm import trange\n",
    "\n",
    "with tf.Session() as sess:\n",
    "    tf.train.start_queue_runners(sess=sess)\n",
    "    tf.global_variables_initializer().run(session=sess)\n",
    "    #loss_dict = {'train_loss':[], 'val_loss':[]}\n",
    "    for step in trange(train_steps):\n",
    "        tr_inputs, tr_labels = dataSets.train.next_batch(batch_size)\n",
    "        tr_feed_dict = {inputs: tr_inputs, labels: tr_labels}\n",
    "        \n",
    "        if step<dec_train_steps:\n",
    "            _ = sess.run(dec_train_op, feed_dict=tr_feed_dict)\n",
    "        else:\n",
    "            if step==dec_train_steps:\n",
    "                print(\"\\n\\n[!] Supervised Learning Starts!!\\n\\n\")\n",
    "            _ = sess.run(pred_train_op, feed_dict=tr_feed_dict)\n",
    "        \n",
    "        if (step+1)%printBy==0:\n",
    "            val_inputs, val_labels = dataSets.validation.next_batch(batch_size)\n",
    "            val_feed_dict = {inputs: val_inputs, labels: val_labels}\n",
    "            \n",
    "            dec_g_step, tr_lr_dec, dec_tr_loss = sess.run([global_step_dec, lr_dec, dec_loss], feed_dict=tr_feed_dict)\n",
    "            dec_val_loss = sess.run(dec_loss, feed_dict=val_feed_dict)\n",
    "            print(\"DEC-{}: LR({:.6f}), DEC_loss({:.4f}||{:.4f})\".format(dec_g_step, tr_lr_dec, dec_tr_loss, dec_val_loss))\n",
    "            pred_g_step, tr_lr_pred, pred_tr_loss, tr_acc = sess.run([global_step_pred, lr_pred, pred_loss, accuracy], feed_dict=tr_feed_dict)\n",
    "            pred_val_loss, val_acc = sess.run([pred_loss, accuracy], feed_dict=val_feed_dict)\n",
    "            print(\"PRED-{}: LR({:.6f}), PRED_loss({:.4f}||{:.4f}), ACC({:.3f}||{:.3f})\"\n",
    "                  .format(pred_g_step, tr_lr_pred, pred_tr_loss, pred_val_loss, tr_acc, val_acc))\n",
    "    \n",
    "    print(\"\\n\\n[TEST]\")\n",
    "    test_inputs, test_labels = dataSets.test.next_batch(batch_size)\n",
    "    test_feed_dict = {inputs: test_inputs, labels: test_labels}\n",
    "    dec_test_loss, test_recon = sess.run([dec_loss, tf.nn.sigmoid(dec_logits)], feed_dict=test_feed_dict)\n",
    "    print(\"DEC_loss({:.4f})\".format(dec_test_loss))\n",
    "    pred_test_loss, test_acc = sess.run([pred_loss, accuracy], feed_dict=test_feed_dict)\n",
    "    print(\"PRED_loss({:.4f}), ACC({:.3f})\".format(pred_test_loss, test_acc))\n",
    "            "
   ]
  },
  {
   "cell_type": "code",
   "execution_count": 11,
   "metadata": {},
   "outputs": [
    {
     "data": {
      "image/png": "[encoded data removed]",
      "text/plain": [
       "<Figure size 864x864 with 10 Axes>"
      ]
     },
     "metadata": {},
     "output_type": "display_data"
    }
   ],
   "source": [
    "def recon_result_viewer(originals, labels, recons, n_samples=5):\n",
    "    import numpy as np\n",
    "    import matplotlib.pyplot as plt\n",
    "    \n",
    "    idx_list = np.random.choice(np.arange(len(labels)), size=n_samples, replace=False)\n",
    "    originals = originals[idx_list]\n",
    "    labels = labels[idx_list]\n",
    "    recons = recons[idx_list]\n",
    "\n",
    "    plt.figure(figsize=(12,12))\n",
    "    for i in range(n_samples):\n",
    "        ncol = 2\n",
    "        nrow = n_samples\n",
    "        plt.subplot(nrow, ncol, 2*i+1)\n",
    "        plt.title(\"ORIGINAL: {}\".format(np.argmax(labels[i])))\n",
    "        plt.tight_layout()\n",
    "        plt.imshow(originals[i].reshape([28,28]), cmap='gray')\n",
    "\n",
    "        plt.subplot(nrow, ncol, 2*i+2)\n",
    "        plt.title(\"RECONSTRUCTED: {}\".format(np.argmax(labels[i])))\n",
    "        plt.tight_layout()\n",
    "        plt.imshow(recons[i].reshape([28,28]), cmap='gray')\n",
    "        \n",
    "recon_result_viewer(test_inputs, test_labels, test_recon, n_samples=5)"
   ]
  },
  {
   "cell_type": "code",
   "execution_count": null,
   "metadata": {},
   "outputs": [],
   "source": []
  }
 ],
 "metadata": {
  "kernelspec": {
   "display_name": "Python 3",
   "language": "python",
   "name": "python3"
  },
  "language_info": {
   "codemirror_mode": {
    "name": "ipython",
    "version": 3
   },
   "file_extension": ".py",
   "mimetype": "text/x-python",
   "name": "python",
   "nbconvert_exporter": "python",
   "pygments_lexer": "ipython3",
   "version": "3.6.1"
  },
  "widgets": {
   "state": {},
   "version": "1.1.2"
  }
 },
 "nbformat": 4,
 "nbformat_minor": 1
}
